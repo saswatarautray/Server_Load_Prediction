{
 "cells": [
  {
   "cell_type": "code",
   "execution_count": 1,
   "metadata": {},
   "outputs": [],
   "source": [
    "# Import the required libraries\n",
    "import numpy as np\n",
    "import pandas as pd\n",
    "from sklearn.calibration import CalibratedClassifierCV\n",
    "from sklearn.linear_model import LogisticRegression\n",
    "import matplotlib.pyplot as plt\n",
    "import warnings\n",
    "warnings.filterwarnings(\"ignore\")\n",
    "import seaborn as sns\n",
    "from sklearn.model_selection import train_test_split\n",
    "from sklearn.model_selection import GridSearchCV\n",
    "from sklearn.metrics import accuracy_score\n",
    "from sklearn.metrics import confusion_matrix\n",
    "from sklearn.linear_model import LogisticRegression\n",
    "from prettytable import PrettyTable\n",
    "from sklearn.metrics import f1_score\n",
    "from sklearn.metrics import log_loss\n",
    "from sklearn.tree import DecisionTreeClassifier\n",
    "from sklearn.ensemble import RandomForestClassifier, VotingClassifier, GradientBoostingClassifier  \n",
    "from prettytable import PrettyTable\n",
    "from sklearn import tree\n",
    "from sklearn.metrics import log_loss\n",
    "from sklearn.preprocessing import StandardScaler\n",
    "import pickle\n",
    "from sklearn.ensemble import GradientBoostingClassifier"
   ]
  },
  {
   "cell_type": "code",
   "execution_count": 2,
   "metadata": {},
   "outputs": [],
   "source": [
    "data = pd.read_csv('train.csv')"
   ]
  },
  {
   "cell_type": "code",
   "execution_count": 3,
   "metadata": {},
   "outputs": [
    {
     "name": "stdout",
     "output_type": "stream",
     "text": [
      "<class 'pandas.core.frame.DataFrame'>\n",
      "RangeIndex: 119782 entries, 0 to 119781\n",
      "Data columns (total 88 columns):\n",
      " #   Column                        Non-Null Count   Dtype  \n",
      "---  ------                        --------------   -----  \n",
      " 0   m_id                          119782 non-null  object \n",
      " 1   syst_direct_ipo_rate          119782 non-null  float64\n",
      " 2   syst_buffered_ipo_rate        119782 non-null  float64\n",
      " 3   syst_page_fault_rate          119782 non-null  float64\n",
      " 4   syst_page_read_ipo_rate       119782 non-null  float64\n",
      " 5   syst_process_count            119782 non-null  int64  \n",
      " 6   syst_other_states             119782 non-null  int64  \n",
      " 7   page_page_write_ipo_rate      119782 non-null  float64\n",
      " 8   page_global_valid_fault_rate  119782 non-null  float64\n",
      " 9   page_free_list_size           119782 non-null  int64  \n",
      " 10  page_modified_list_size       119782 non-null  int64  \n",
      " 11  io_mailbox_write_rate         119782 non-null  float64\n",
      " 12  io_split_transfer_rate        119782 non-null  float64\n",
      " 13  io_file_open_rate             119782 non-null  float64\n",
      " 14  io_logical_name_trans         119782 non-null  float64\n",
      " 15  io_page_reads                 119782 non-null  float64\n",
      " 16  io_page_writes                119782 non-null  float64\n",
      " 17  page_free_list_faults         119782 non-null  float64\n",
      " 18  page_modified_list_faults     119782 non-null  float64\n",
      " 19  page_demand_zero_faults       119782 non-null  float64\n",
      " 20  state_compute                 119782 non-null  int64  \n",
      " 21  state_mwait                   119782 non-null  int64  \n",
      " 22  state_lef                     119782 non-null  int64  \n",
      " 23  state_hib                     119782 non-null  int64  \n",
      " 24  state_cur                     119782 non-null  int64  \n",
      " 25  app06_dirio                   119782 non-null  int64  \n",
      " 26  app06_bufio                   119782 non-null  int64  \n",
      " 27  app06_pgflts                  119782 non-null  int64  \n",
      " 28  app06_proccount               119782 non-null  int64  \n",
      " 29  app06_pagesgbl                119782 non-null  int64  \n",
      " 30  app06_pagesproc               119782 non-null  int64  \n",
      " 31  app07_dirio                   119782 non-null  float64\n",
      " 32  app07_bufio                   119782 non-null  float64\n",
      " 33  app07_pgflts                  119782 non-null  float64\n",
      " 34  app07_proccount               119782 non-null  int64  \n",
      " 35  app07_pagesgbl                119782 non-null  int64  \n",
      " 36  app07_pagesproc               119782 non-null  int64  \n",
      " 37  app04_dirio                   119782 non-null  float64\n",
      " 38  app04_bufio                   119782 non-null  float64\n",
      " 39  app04_pgflts                  119782 non-null  float64\n",
      " 40  app04_proccount               119782 non-null  int64  \n",
      " 41  app04_pagesgbl                119782 non-null  int64  \n",
      " 42  app04_pagesproc               119782 non-null  int64  \n",
      " 43  app08_dirio                   119782 non-null  float64\n",
      " 44  app08_bufio                   119782 non-null  float64\n",
      " 45  app08_pgflts                  119782 non-null  float64\n",
      " 46  app08_proccount               119782 non-null  int64  \n",
      " 47  app08_pagesgbl                119782 non-null  int64  \n",
      " 48  app08_pagesproc               119782 non-null  int64  \n",
      " 49  app01_dirio                   119782 non-null  float64\n",
      " 50  app01_bufio                   119782 non-null  float64\n",
      " 51  app01_pgflts                  119782 non-null  float64\n",
      " 52  app01_proccount               119782 non-null  int64  \n",
      " 53  app01_pagesgbl                119782 non-null  int64  \n",
      " 54  app01_pagesproc               119782 non-null  int64  \n",
      " 55  app05_dirio                   119782 non-null  float64\n",
      " 56  app05_bufio                   119782 non-null  float64\n",
      " 57  app05_pgflts                  119782 non-null  float64\n",
      " 58  app05_proccount               119782 non-null  int64  \n",
      " 59  app05_pagesgbl                119782 non-null  int64  \n",
      " 60  app05_pagesproc               119782 non-null  int64  \n",
      " 61  app03_dirio                   119782 non-null  float64\n",
      " 62  app03_bufio                   119782 non-null  float64\n",
      " 63  app03_pgflts                  119782 non-null  float64\n",
      " 64  app03_proccount               119782 non-null  int64  \n",
      " 65  app03_pagesgbl                119782 non-null  int64  \n",
      " 66  app03_pagesproc               119782 non-null  int64  \n",
      " 67  app02_dirio                   119782 non-null  float64\n",
      " 68  app02_bufio                   119782 non-null  float64\n",
      " 69  app02_pgflts                  119782 non-null  float64\n",
      " 70  app02_proccount               119782 non-null  int64  \n",
      " 71  app02_pagesgbl                119782 non-null  int64  \n",
      " 72  app02_pagesproc               119782 non-null  int64  \n",
      " 73  tcp_in                        119782 non-null  int64  \n",
      " 74  tcp_out                       119782 non-null  int64  \n",
      " 75  tcp_rxdup                     119782 non-null  int64  \n",
      " 76  tcp_retxpk                    119782 non-null  int64  \n",
      " 77  tcp_retxto                    119782 non-null  int64  \n",
      " 78  tcp_kpalv                     119782 non-null  int64  \n",
      " 79  lla0_pkts_recvpsec            119782 non-null  float64\n",
      " 80  lla0_pkts_sentpsec            119782 non-null  float64\n",
      " 81  llb0_pkts_recvpsec            119782 non-null  float64\n",
      " 82  llb0_pkts_sentpsec            119782 non-null  float64\n",
      " 83  ewc0_pkts_recvpsec            119782 non-null  float64\n",
      " 84  ewc0_pkts_sentpsec            119782 non-null  float64\n",
      " 85  ewd0_pkts_recvpsec            119782 non-null  float64\n",
      " 86  ewd0_pkts_sentpsec            119782 non-null  float64\n",
      " 87  cpu_load                      119782 non-null  object \n",
      "dtypes: float64(44), int64(42), object(2)\n",
      "memory usage: 80.4+ MB\n"
     ]
    }
   ],
   "source": [
    "data.info()"
   ]
  },
  {
   "cell_type": "code",
   "execution_count": 4,
   "metadata": {},
   "outputs": [
    {
     "name": "stdout",
     "output_type": "stream",
     "text": [
      "(119782, 88)\n",
      "Index(['m_id', 'syst_direct_ipo_rate', 'syst_buffered_ipo_rate',\n",
      "       'syst_page_fault_rate', 'syst_page_read_ipo_rate', 'syst_process_count',\n",
      "       'syst_other_states', 'page_page_write_ipo_rate',\n",
      "       'page_global_valid_fault_rate', 'page_free_list_size',\n",
      "       'page_modified_list_size', 'io_mailbox_write_rate',\n",
      "       'io_split_transfer_rate', 'io_file_open_rate', 'io_logical_name_trans',\n",
      "       'io_page_reads', 'io_page_writes', 'page_free_list_faults',\n",
      "       'page_modified_list_faults', 'page_demand_zero_faults', 'state_compute',\n",
      "       'state_mwait', 'state_lef', 'state_hib', 'state_cur', 'app06_dirio',\n",
      "       'app06_bufio', 'app06_pgflts', 'app06_proccount', 'app06_pagesgbl',\n",
      "       'app06_pagesproc', 'app07_dirio', 'app07_bufio', 'app07_pgflts',\n",
      "       'app07_proccount', 'app07_pagesgbl', 'app07_pagesproc', 'app04_dirio',\n",
      "       'app04_bufio', 'app04_pgflts', 'app04_proccount', 'app04_pagesgbl',\n",
      "       'app04_pagesproc', 'app08_dirio', 'app08_bufio', 'app08_pgflts',\n",
      "       'app08_proccount', 'app08_pagesgbl', 'app08_pagesproc', 'app01_dirio',\n",
      "       'app01_bufio', 'app01_pgflts', 'app01_proccount', 'app01_pagesgbl',\n",
      "       'app01_pagesproc', 'app05_dirio', 'app05_bufio', 'app05_pgflts',\n",
      "       'app05_proccount', 'app05_pagesgbl', 'app05_pagesproc', 'app03_dirio',\n",
      "       'app03_bufio', 'app03_pgflts', 'app03_proccount', 'app03_pagesgbl',\n",
      "       'app03_pagesproc', 'app02_dirio', 'app02_bufio', 'app02_pgflts',\n",
      "       'app02_proccount', 'app02_pagesgbl', 'app02_pagesproc', 'tcp_in',\n",
      "       'tcp_out', 'tcp_rxdup', 'tcp_retxpk', 'tcp_retxto', 'tcp_kpalv',\n",
      "       'lla0_pkts_recvpsec', 'lla0_pkts_sentpsec', 'llb0_pkts_recvpsec',\n",
      "       'llb0_pkts_sentpsec', 'ewc0_pkts_recvpsec', 'ewc0_pkts_sentpsec',\n",
      "       'ewd0_pkts_recvpsec', 'ewd0_pkts_sentpsec', 'cpu_load'],\n",
      "      dtype='object')\n"
     ]
    }
   ],
   "source": [
    "data = pd.read_csv('train.csv')\n",
    "print(data.shape)\n",
    "print(data.columns)"
   ]
  },
  {
   "cell_type": "code",
   "execution_count": 5,
   "metadata": {},
   "outputs": [],
   "source": [
    "\n",
    "\n",
    "def plot_confugion_matrix(target, predict):\n",
    "    \n",
    "    cm = confusion_matrix(predict, target)\n",
    "    class_label = ['low']\n",
    "    plt.figure(figsize = (7,7))\n",
    "    df_cm = pd.DataFrame(cm, index = class_label, columns = class_label)\n",
    "    sns.heatmap(df_cm, annot = True, fmt = \"d\")\n",
    "    plt.title(\"Confusiion Matrix\")\n",
    "    plt.xlabel(\"True Label\")\n",
    "    plt.ylabel(\"Predicted Label\")\n",
    "    plt.show()\n"
   ]
  },
  {
   "cell_type": "code",
   "execution_count": 6,
   "metadata": {},
   "outputs": [],
   "source": [
    "def one_hot_builder(label_dict, test_label):\n",
    "    y_test_on_hot = []\n",
    "    for test in test_label:\n",
    "        y_test_on_hot.append(label_dict[str(test)])\n",
    "    return y_test_on_hot\n"
   ]
  },
  {
   "cell_type": "markdown",
   "metadata": {},
   "source": [
    "# EDA"
   ]
  },
  {
   "cell_type": "code",
   "execution_count": 7,
   "metadata": {},
   "outputs": [
    {
     "data": {
      "text/plain": [
       "Index(['m_id', 'syst_direct_ipo_rate', 'syst_buffered_ipo_rate',\n",
       "       'syst_page_fault_rate', 'syst_page_read_ipo_rate', 'syst_process_count',\n",
       "       'syst_other_states', 'page_page_write_ipo_rate',\n",
       "       'page_global_valid_fault_rate', 'page_free_list_size',\n",
       "       'page_modified_list_size', 'io_mailbox_write_rate',\n",
       "       'io_split_transfer_rate', 'io_file_open_rate', 'io_logical_name_trans',\n",
       "       'io_page_reads', 'io_page_writes', 'page_free_list_faults',\n",
       "       'page_modified_list_faults', 'page_demand_zero_faults', 'state_compute',\n",
       "       'state_mwait', 'state_lef', 'state_hib', 'state_cur', 'app06_dirio',\n",
       "       'app06_bufio', 'app06_pgflts', 'app06_proccount', 'app06_pagesgbl',\n",
       "       'app06_pagesproc', 'app07_dirio', 'app07_bufio', 'app07_pgflts',\n",
       "       'app07_proccount', 'app07_pagesgbl', 'app07_pagesproc', 'app04_dirio',\n",
       "       'app04_bufio', 'app04_pgflts', 'app04_proccount', 'app04_pagesgbl',\n",
       "       'app04_pagesproc', 'app08_dirio', 'app08_bufio', 'app08_pgflts',\n",
       "       'app08_proccount', 'app08_pagesgbl', 'app08_pagesproc', 'app01_dirio',\n",
       "       'app01_bufio', 'app01_pgflts', 'app01_proccount', 'app01_pagesgbl',\n",
       "       'app01_pagesproc', 'app05_dirio', 'app05_bufio', 'app05_pgflts',\n",
       "       'app05_proccount', 'app05_pagesgbl', 'app05_pagesproc', 'app03_dirio',\n",
       "       'app03_bufio', 'app03_pgflts', 'app03_proccount', 'app03_pagesgbl',\n",
       "       'app03_pagesproc', 'app02_dirio', 'app02_bufio', 'app02_pgflts',\n",
       "       'app02_proccount', 'app02_pagesgbl', 'app02_pagesproc', 'tcp_in',\n",
       "       'tcp_out', 'tcp_rxdup', 'tcp_retxpk', 'tcp_retxto', 'tcp_kpalv',\n",
       "       'lla0_pkts_recvpsec', 'lla0_pkts_sentpsec', 'llb0_pkts_recvpsec',\n",
       "       'llb0_pkts_sentpsec', 'ewc0_pkts_recvpsec', 'ewc0_pkts_sentpsec',\n",
       "       'ewd0_pkts_recvpsec', 'ewd0_pkts_sentpsec', 'cpu_load'],\n",
       "      dtype='object')"
      ]
     },
     "execution_count": 7,
     "metadata": {},
     "output_type": "execute_result"
    }
   ],
   "source": [
    "data.columns"
   ]
  },
  {
   "cell_type": "code",
   "execution_count": 8,
   "metadata": {},
   "outputs": [
    {
     "data": {
      "text/plain": [
       "(119782, 88)"
      ]
     },
     "execution_count": 8,
     "metadata": {},
     "output_type": "execute_result"
    }
   ],
   "source": [
    "data.shape"
   ]
  },
  {
   "cell_type": "code",
   "execution_count": 9,
   "metadata": {},
   "outputs": [
    {
     "data": {
      "text/plain": [
       "Index(['app06_dirio', 'app06_bufio', 'app06_pgflts', 'app06_proccount',\n",
       "       'app03_proccount'],\n",
       "      dtype='object')"
      ]
     },
     "execution_count": 9,
     "metadata": {},
     "output_type": "execute_result"
    }
   ],
   "source": [
    "data.columns[data.nunique() <= 1]"
   ]
  },
  {
   "cell_type": "code",
   "execution_count": 10,
   "metadata": {},
   "outputs": [],
   "source": [
    "# data = data.drop(['app06_dirio', 'app06_bufio', 'app06_pgflts', 'app06_proccount', 'app03_proccount'], axis = 1)"
   ]
  },
  {
   "cell_type": "code",
   "execution_count": 11,
   "metadata": {},
   "outputs": [
    {
     "name": "stdout",
     "output_type": "stream",
     "text": [
      "(119782, 88)\n"
     ]
    }
   ],
   "source": [
    "print(data.shape)"
   ]
  },
  {
   "cell_type": "code",
   "execution_count": 12,
   "metadata": {},
   "outputs": [],
   "source": [
    "# mid_dict = {'a':[1, 0,0,0,0,0,0], 'b':[0, 1,0,0,0,0,0], 'c':[0, 0,1,0,0,0,0], 'd':[0, 0,0,1,0,0,0], 'e':[0, 0,0,0,1,0,0], 'f':[0, 0,0,0,0,1,0], 'g':[0, 0,0,0,0,0,1]}\n",
    "# m_id_one_hot = one_hot_builder(mid_dict, data.m_id.values)"
   ]
  },
  {
   "cell_type": "code",
   "execution_count": 13,
   "metadata": {},
   "outputs": [],
   "source": [
    "# data['m_id_one_hot'] = m_id_one_hot\n",
    "\n",
    "data = data.drop(['m_id'], axis = 1)"
   ]
  },
  {
   "cell_type": "code",
   "execution_count": 14,
   "metadata": {},
   "outputs": [],
   "source": [
    "correlation_matrix = data.corr()\n",
    "correlated_features = set()\n",
    "for i in range(len(correlation_matrix .columns)):\n",
    "    for j in range(i):\n",
    "        if abs(correlation_matrix.iloc[i, j]) > 0.99:\n",
    "            colname = correlation_matrix.columns[i]\n",
    "            correlated_features.add(colname)"
   ]
  },
  {
   "cell_type": "code",
   "execution_count": 15,
   "metadata": {},
   "outputs": [
    {
     "data": {
      "text/plain": [
       "12"
      ]
     },
     "execution_count": 15,
     "metadata": {},
     "output_type": "execute_result"
    }
   ],
   "source": [
    "len(correlated_features)"
   ]
  },
  {
   "cell_type": "code",
   "execution_count": 16,
   "metadata": {},
   "outputs": [
    {
     "data": {
      "text/plain": [
       "{'app01_bufio',\n",
       " 'app01_pagesgbl',\n",
       " 'app01_pagesproc',\n",
       " 'app03_pagesgbl',\n",
       " 'app03_pagesproc',\n",
       " 'app04_pagesproc',\n",
       " 'app05_pagesproc',\n",
       " 'app08_pagesgbl',\n",
       " 'app08_pagesproc',\n",
       " 'io_page_reads',\n",
       " 'llb0_pkts_sentpsec',\n",
       " 'tcp_retxto'}"
      ]
     },
     "execution_count": 16,
     "metadata": {},
     "output_type": "execute_result"
    }
   ],
   "source": [
    "correlated_features"
   ]
  },
  {
   "cell_type": "code",
   "execution_count": 17,
   "metadata": {},
   "outputs": [],
   "source": [
    "# data = data.drop(list(correlated_features), axis = 1)"
   ]
  },
  {
   "cell_type": "code",
   "execution_count": 18,
   "metadata": {},
   "outputs": [
    {
     "data": {
      "text/plain": [
       "(119782, 87)"
      ]
     },
     "execution_count": 18,
     "metadata": {},
     "output_type": "execute_result"
    }
   ],
   "source": [
    "data.shape"
   ]
  },
  {
   "cell_type": "markdown",
   "metadata": {},
   "source": [
    "### Distributions analysis of columns with respect to data and check for outliers"
   ]
  },
  {
   "cell_type": "code",
   "execution_count": 19,
   "metadata": {},
   "outputs": [
    {
     "name": "stdout",
     "output_type": "stream",
     "text": [
      "61\n"
     ]
    },
    {
     "data": {
      "text/plain": [
       "['syst_direct_ipo_rate',\n",
       " 'syst_buffered_ipo_rate',\n",
       " 'syst_page_fault_rate',\n",
       " 'syst_page_read_ipo_rate',\n",
       " 'syst_process_count',\n",
       " 'page_page_write_ipo_rate',\n",
       " 'page_global_valid_fault_rate',\n",
       " 'page_free_list_size',\n",
       " 'page_modified_list_size',\n",
       " 'io_mailbox_write_rate',\n",
       " 'io_split_transfer_rate',\n",
       " 'io_file_open_rate',\n",
       " 'io_logical_name_trans',\n",
       " 'io_page_reads',\n",
       " 'io_page_writes',\n",
       " 'page_free_list_faults',\n",
       " 'page_modified_list_faults',\n",
       " 'page_demand_zero_faults',\n",
       " 'state_lef',\n",
       " 'app07_dirio',\n",
       " 'app07_bufio',\n",
       " 'app07_pgflts',\n",
       " 'app07_pagesgbl',\n",
       " 'app07_pagesproc',\n",
       " 'app04_dirio',\n",
       " 'app04_bufio',\n",
       " 'app04_pgflts',\n",
       " 'app04_pagesgbl',\n",
       " 'app04_pagesproc',\n",
       " 'app08_dirio',\n",
       " 'app08_bufio',\n",
       " 'app08_pagesgbl',\n",
       " 'app08_pagesproc',\n",
       " 'app01_dirio',\n",
       " 'app01_bufio',\n",
       " 'app01_pagesproc',\n",
       " 'app05_dirio',\n",
       " 'app05_bufio',\n",
       " 'app05_pgflts',\n",
       " 'app05_pagesgbl',\n",
       " 'app05_pagesproc',\n",
       " 'app03_dirio',\n",
       " 'app03_bufio',\n",
       " 'app03_pgflts',\n",
       " 'app03_pagesproc',\n",
       " 'app02_dirio',\n",
       " 'app02_bufio',\n",
       " 'app02_pagesgbl',\n",
       " 'app02_pagesproc',\n",
       " 'tcp_in',\n",
       " 'tcp_out',\n",
       " 'tcp_rxdup',\n",
       " 'tcp_kpalv',\n",
       " 'lla0_pkts_recvpsec',\n",
       " 'lla0_pkts_sentpsec',\n",
       " 'llb0_pkts_recvpsec',\n",
       " 'llb0_pkts_sentpsec',\n",
       " 'ewc0_pkts_recvpsec',\n",
       " 'ewc0_pkts_sentpsec',\n",
       " 'ewd0_pkts_recvpsec',\n",
       " 'ewd0_pkts_sentpsec']"
      ]
     },
     "execution_count": 19,
     "metadata": {},
     "output_type": "execute_result"
    }
   ],
   "source": [
    "cols = []\n",
    "for col in data.columns:\n",
    "    if np.unique(data[col].values).shape[0] > 30:\n",
    "        cols.append(col)\n",
    "        \n",
    "print(len(cols))\n",
    "cols"
   ]
  },
  {
   "cell_type": "markdown",
   "metadata": {},
   "source": [
    "##### syst_page_fault_rate analyze"
   ]
  },
  {
   "cell_type": "code",
   "execution_count": 20,
   "metadata": {},
   "outputs": [
    {
     "data": {
      "text/plain": [
       "<AxesSubplot:xlabel='syst_page_fault_rate', ylabel='syst_page_fault_rate'>"
      ]
     },
     "execution_count": 20,
     "metadata": {},
     "output_type": "execute_result"
    },
    {
     "data": {
      "image/png": "[encoded data removed]",
      "text/plain": [
       "<Figure size 437x360 with 1 Axes>"
      ]
     },
     "metadata": {
      "needs_background": "light"
     },
     "output_type": "display_data"
    }
   ],
   "source": [
    "sns.displot(data, x=\"syst_page_fault_rate\", hue=\"cpu_load\", kind=\"kde\")\n",
    "sns.violinplot(y=\"syst_page_fault_rate\", data =data)"
   ]
  },
  {
   "cell_type": "markdown",
   "metadata": {},
   "source": [
    "there are some outliers in the column"
   ]
  },
  {
   "cell_type": "code",
   "execution_count": 21,
   "metadata": {},
   "outputs": [
    {
     "name": "stdout",
     "output_type": "stream",
     "text": [
      "90 percentile value is 1.4\n",
      "91 percentile value is 4.45\n",
      "92 percentile value is 9.3\n",
      "93 percentile value is 14.95\n",
      "94 percentile value is 15.28\n",
      "95 percentile value is 15.83\n",
      "96 percentile value is 23.78\n",
      "97 percentile value is 32.35\n",
      "98 percentile value is 62.92\n",
      "99 percentile value is 90.02\n",
      "100 percentile value is  4305.72\n"
     ]
    }
   ],
   "source": [
    "for i in range(90,100):\n",
    "    var =data[\"syst_page_fault_rate\"].values\n",
    "    var = np.sort(var,axis = None)\n",
    "    print(\"{} percentile value is {}\".format(i,var[int(len(var)*(float(i)/100))]))\n",
    "print(\"100 percentile value is \",var[-1])"
   ]
  },
  {
   "cell_type": "code",
   "execution_count": 22,
   "metadata": {},
   "outputs": [
    {
     "name": "stdout",
     "output_type": "stream",
     "text": [
      "[ 812.03  813.45  814.77  817.    817.88  824.9   825.55  825.55  826.07\n",
      "  826.5   826.53  827.12  827.27  830.68  831.23  831.43  831.43  831.57\n",
      "  831.68  832.    832.15  832.33  832.53  832.55  832.77  832.98  832.98\n",
      "  833.35  833.38  833.62  836.58  841.77  842.33  843.33  851.08  861.92\n",
      "  864.97  871.77  872.33  873.42  877.32  881.67  884.67  890.7   891.05\n",
      "  899.35  903.22  908.38  910.67  911.55  917.37  919.7   921.93  927.17\n",
      "  932.6   943.33  949.82  955.62  955.67  959.55  961.67  966.5   970.73\n",
      "  970.9   980.22  987.03  989.75  989.98  991.22  991.43  999.87 1002.65\n",
      " 1019.97 1021.22 1038.02 1039.87 1040.47 1043.4  1047.37 1048.18 1054.45\n",
      " 1056.98 1057.9  1061.87 1065.92 1073.53 1074.28 1074.88 1076.47 1081.05\n",
      " 1088.17 1091.15 1091.18 1091.58 1100.42 1103.95 1105.45 1107.7  1108.02\n",
      " 1109.82 1110.82 1112.28 1118.83 1126.73 1128.35 1138.35 1140.95 1140.98\n",
      " 1142.05 1143.4  1143.47 1143.83 1146.05 1152.22 1152.35 1153.2  1157.32\n",
      " 1157.4  1160.77 1162.05 1165.25 1166.98 1174.53 1175.23 1177.17 1182.37\n",
      " 1186.03 1197.82 1198.17 1203.48 1204.45 1204.52 1216.8  1223.53 1225.1\n",
      " 1225.67 1227.6  1227.9  1233.1  1235.52 1237.57 1245.28 1245.28 1247.63\n",
      " 1249.72 1256.98 1259.4  1263.62 1274.1  1279.08 1289.52 1296.98 1299.87\n",
      " 1308.5  1313.83 1314.68 1322.18 1327.13 1329.82 1330.05 1336.33 1339.2\n",
      " 1364.28 1375.42 1393.88 1398.75 1400.85 1401.82 1421.67 1423.53 1423.63\n",
      " 1423.9  1424.72 1428.82 1434.62 1435.37 1455.03 1457.53 1458.03 1463.57\n",
      " 1463.68 1472.75 1474.6  1480.52 1483.77 1483.83 1493.13 1499.33 1503.53\n",
      " 1507.68 1511.37 1513.38 1517.27 1522.13 1537.25 1544.83 1546.65 1557.67\n",
      " 1561.65 1575.13 1577.25 1587.28 1587.33 1588.3  1595.28 1612.82 1623.68\n",
      " 1634.25 1635.38 1649.1  1652.42 1668.8  1677.98 1682.67 1688.98 1698.6\n",
      " 1713.32 1716.25 1716.37 1720.93 1730.33 1735.97 1738.28 1744.82 1747.62\n",
      " 1752.42 1753.47 1756.   1757.35 1765.58 1769.52 1779.9  1781.27 1790.47\n",
      " 1792.3  1794.23 1803.92 1805.38 1816.97 1817.48 1818.38 1821.55 1825.73\n",
      " 1829.28 1829.7  1830.48 1839.8  1841.77 1850.53 1853.58 1864.25 1872.47\n",
      " 1872.82 1874.15 1876.52 1894.78 1895.13 1898.43 1903.48 1903.93 1929.95\n",
      " 1935.85 1940.93 1960.87 1976.1  1986.12 1987.77 1988.12 2019.57 2023.62\n",
      " 2028.33 2033.02 2052.   2055.8  2081.5  2085.28 2111.92 2126.92 2131.6\n",
      " 2152.   2152.48 2155.82 2169.38 2194.8  2215.05 2216.42 2239.75 2241.13\n",
      " 2249.93 2252.72 2303.57 2361.77 2387.35 2391.28 2495.98 2505.82 2545.03\n",
      " 3752.53 4279.5  4305.72]\n"
     ]
    }
   ],
   "source": [
    "var =data[\"syst_page_fault_rate\"].values\n",
    "var = np.sort(var,axis = None)\n",
    "print(var[-300:])"
   ]
  },
  {
   "cell_type": "code",
   "execution_count": 23,
   "metadata": {},
   "outputs": [
    {
     "data": {
      "text/plain": [
       "(119779, 87)"
      ]
     },
     "execution_count": 23,
     "metadata": {},
     "output_type": "execute_result"
    }
   ],
   "source": [
    "data = data[data['syst_page_fault_rate'] < 2600]\n",
    "data.shape"
   ]
  },
  {
   "cell_type": "markdown",
   "metadata": {},
   "source": [
    "##### page_page_write_ipo_rate analyze"
   ]
  },
  {
   "cell_type": "code",
   "execution_count": 24,
   "metadata": {},
   "outputs": [
    {
     "data": {
      "text/plain": [
       "<seaborn.axisgrid.FacetGrid at 0x7fde607b5ca0>"
      ]
     },
     "execution_count": 24,
     "metadata": {},
     "output_type": "execute_result"
    },
    {
     "data": {
      "image/png": "[encoded data removed]",
      "text/plain": [
       "<Figure size 360x360 with 1 Axes>"
      ]
     },
     "metadata": {
      "needs_background": "light"
     },
     "output_type": "display_data"
    }
   ],
   "source": [
    "sns.displot(data, x=\"page_page_write_ipo_rate\", kind=\"kde\")\n",
    "# sns.violinplot(y=\"syst_process_count\", data =data)"
   ]
  },
  {
   "cell_type": "code",
   "execution_count": 25,
   "metadata": {},
   "outputs": [
    {
     "name": "stdout",
     "output_type": "stream",
     "text": [
      "90 percentile value is 19.12\n",
      "91 percentile value is 19.98\n",
      "92 percentile value is 20.9\n",
      "93 percentile value is 21.92\n",
      "94 percentile value is 23.03\n",
      "95 percentile value is 24.35\n",
      "96 percentile value is 25.87\n",
      "97 percentile value is 27.67\n",
      "98 percentile value is 30.08\n",
      "99 percentile value is 34.05\n",
      "100 percentile value is  83.33\n"
     ]
    }
   ],
   "source": [
    "for i in range(90,100):\n",
    "    var =data[\"page_page_write_ipo_rate\"].values\n",
    "    var = np.sort(var,axis = None)\n",
    "    print(\"{} percentile value is {}\".format(i,var[int(len(var)*(float(i)/100))]))\n",
    "print(\"100 percentile value is \",var[-1])"
   ]
  },
  {
   "cell_type": "code",
   "execution_count": 26,
   "metadata": {},
   "outputs": [
    {
     "name": "stdout",
     "output_type": "stream",
     "text": [
      "[41.55 41.6  41.6  41.63 41.63 41.65 41.68 41.68 41.68 41.68 41.73 41.75\n",
      " 41.83 41.85 41.87 41.9  41.9  41.92 41.93 41.93 41.95 41.97 42.03 42.03\n",
      " 42.07 42.08 42.1  42.13 42.15 42.17 42.2  42.22 42.23 42.23 42.25 42.27\n",
      " 42.33 42.38 42.43 42.45 42.45 42.47 42.47 42.47 42.48 42.52 42.58 42.6\n",
      " 42.67 42.7  42.7  42.72 42.73 42.73 42.78 42.83 42.85 42.85 42.87 42.92\n",
      " 42.93 42.95 42.97 42.97 42.97 43.   43.03 43.07 43.1  43.1  43.15 43.15\n",
      " 43.17 43.18 43.2  43.2  43.23 43.25 43.27 43.28 43.28 43.32 43.37 43.42\n",
      " 43.45 43.47 43.52 43.52 43.52 43.52 43.52 43.52 43.6  43.6  43.65 43.68\n",
      " 43.68 43.77 43.77 43.82 43.83 43.83 43.85 43.85 43.92 43.93 43.93 44.\n",
      " 44.   44.   44.07 44.07 44.08 44.12 44.17 44.18 44.18 44.22 44.25 44.27\n",
      " 44.28 44.3  44.33 44.33 44.35 44.37 44.38 44.45 44.5  44.53 44.53 44.53\n",
      " 44.53 44.57 44.62 44.62 44.62 44.62 44.7  44.75 44.83 44.88 44.9  44.9\n",
      " 44.92 44.93 44.95 44.97 44.98 45.   45.1  45.1  45.13 45.33 45.4  45.45\n",
      " 45.47 45.5  45.6  45.62 45.65 45.65 45.67 45.7  45.82 45.83 45.88 45.93\n",
      " 45.95 46.03 46.17 46.18 46.27 46.3  46.35 46.37 46.4  46.42 46.43 46.47\n",
      " 46.48 46.48 46.53 46.57 46.58 46.62 46.67 46.75 46.93 46.95 46.98 47.12\n",
      " 47.17 47.25 47.27 47.28 47.32 47.43 47.48 47.52 47.57 47.8  47.83 48.03\n",
      " 48.05 48.08 48.1  48.15 48.17 48.18 48.18 48.27 48.33 48.53 48.57 48.62\n",
      " 48.7  48.87 48.95 48.98 49.02 49.08 49.13 49.2  49.27 49.33 49.35 49.4\n",
      " 49.53 49.62 50.1  50.17 50.37 50.47 50.52 50.55 50.9  51.05 51.1  51.17\n",
      " 51.45 51.53 51.63 51.67 51.82 51.95 52.03 52.03 52.38 52.38 52.48 52.48\n",
      " 52.88 52.9  53.03 53.08 53.1  53.33 53.43 53.48 53.88 54.12 54.18 54.47\n",
      " 54.52 54.6  54.7  54.72 55.07 55.12 55.18 55.22 55.42 55.45 55.57 55.65\n",
      " 55.78 56.02 56.07 56.23 56.32 56.43 56.68 56.8  57.2  57.72 58.62 58.67\n",
      " 59.15 59.25 60.32 60.85 61.8  62.37 62.38 63.77 64.65 65.85 81.02 83.33]\n"
     ]
    }
   ],
   "source": [
    "var =data[\"page_page_write_ipo_rate\"].values\n",
    "var = np.sort(var,axis = None)\n",
    "print(var[-300:])"
   ]
  },
  {
   "cell_type": "code",
   "execution_count": 27,
   "metadata": {},
   "outputs": [
    {
     "data": {
      "text/plain": [
       "(119777, 87)"
      ]
     },
     "execution_count": 27,
     "metadata": {},
     "output_type": "execute_result"
    }
   ],
   "source": [
    "data = data[data['page_page_write_ipo_rate'] < 80]\n",
    "data.shape"
   ]
  },
  {
   "cell_type": "code",
   "execution_count": 28,
   "metadata": {},
   "outputs": [
    {
     "data": {
      "text/plain": [
       "<seaborn.axisgrid.FacetGrid at 0x7fde5e1d8970>"
      ]
     },
     "execution_count": 28,
     "metadata": {},
     "output_type": "execute_result"
    },
    {
     "data": {
      "image/png": "[encoded data removed]",
      "text/plain": [
       "<Figure size 360x360 with 1 Axes>"
      ]
     },
     "metadata": {
      "needs_background": "light"
     },
     "output_type": "display_data"
    }
   ],
   "source": [
    "sns.displot(data, x=\"io_split_transfer_rate\", kind=\"kde\")\n",
    "# sns.violinplot(y=\"syst_process_count\", data =data)"
   ]
  },
  {
   "cell_type": "code",
   "execution_count": 29,
   "metadata": {},
   "outputs": [
    {
     "name": "stdout",
     "output_type": "stream",
     "text": [
      "90 percentile value is 0.0\n",
      "91 percentile value is 0.0\n",
      "92 percentile value is 0.0\n",
      "93 percentile value is 0.0\n",
      "94 percentile value is 0.0\n",
      "95 percentile value is 0.0\n",
      "96 percentile value is 0.0\n",
      "97 percentile value is 0.0\n",
      "98 percentile value is 0.0\n",
      "99 percentile value is 0.07\n",
      "100 percentile value is  695.0\n"
     ]
    }
   ],
   "source": [
    "for i in range(90,100):\n",
    "    var =data[\"io_split_transfer_rate\"].values\n",
    "    var = np.sort(var,axis = None)\n",
    "    print(\"{} percentile value is {}\".format(i,var[int(len(var)*(float(i)/100))]))\n",
    "print(\"100 percentile value is \",var[-1])"
   ]
  },
  {
   "cell_type": "code",
   "execution_count": 30,
   "metadata": {},
   "outputs": [
    {
     "name": "stdout",
     "output_type": "stream",
     "text": [
      "[110.33 110.37 111.2  111.97 112.28 113.48 113.7  114.18 114.62 114.63\n",
      " 114.67 114.82 114.82 114.92 114.93 115.25 115.92 115.98 116.02 116.05\n",
      " 116.42 116.72 116.82 116.9  117.15 117.33 117.45 118.13 118.23 118.37\n",
      " 119.47 120.32 120.8  120.82 121.25 121.35 121.52 121.6  122.33 122.7\n",
      " 122.83 123.25 123.9  123.95 124.02 124.1  124.95 125.32 125.65 126.37\n",
      " 127.48 128.47 128.52 128.82 129.32 129.52 130.3  130.32 130.57 131.63\n",
      " 132.65 133.18 134.23 134.4  135.3  135.3  135.32 135.45 135.87 135.88\n",
      " 136.02 136.1  136.27 137.28 137.37 140.32 140.43 140.48 140.73 140.88\n",
      " 141.2  141.2  141.32 141.95 142.   142.98 143.18 143.3  143.6  143.77\n",
      " 143.78 144.45 144.7  145.4  145.45 145.87 145.9  146.75 147.5  147.73\n",
      " 148.58 150.42 151.12 151.48 154.97 156.43 156.52 156.62 156.95 157.07\n",
      " 157.5  157.97 158.03 159.82 160.07 160.17 160.48 161.2  161.75 162.32\n",
      " 162.52 163.23 163.28 163.6  163.6  163.93 164.87 165.98 166.3  166.73\n",
      " 166.88 167.27 167.37 167.9  168.32 169.97 171.13 171.45 172.8  172.98\n",
      " 173.47 173.52 174.   174.73 174.85 175.8  176.48 176.93 177.35 177.38\n",
      " 177.5  177.7  178.52 178.75 179.   179.52 180.25 180.4  181.93 182.1\n",
      " 182.63 182.7  183.85 184.88 185.33 185.55 186.35 190.55 191.12 191.53\n",
      " 193.03 194.   194.65 195.05 195.55 196.53 196.57 198.32 198.6  200.68\n",
      " 200.87 200.98 201.7  202.55 202.9  203.37 204.53 207.5  209.65 209.92\n",
      " 211.4  211.95 212.87 212.9  213.55 213.83 214.12 215.47 216.22 218.03\n",
      " 218.65 219.25 220.15 220.58 222.23 222.45 222.87 224.5  224.82 224.85\n",
      " 225.65 226.8  227.68 228.   229.27 229.65 234.23 234.68 235.   235.25\n",
      " 235.9  238.02 239.12 241.45 241.83 243.2  243.22 243.9  243.95 244.5\n",
      " 245.73 247.75 250.05 251.22 251.25 252.52 253.7  254.52 257.62 260.1\n",
      " 261.53 262.53 265.02 265.2  272.35 272.62 274.88 276.7  278.85 281.08\n",
      " 284.35 285.82 286.13 287.92 288.17 292.97 293.5  293.75 298.13 303.32\n",
      " 303.42 306.93 313.22 313.92 318.13 320.9  330.92 332.37 339.72 342.42\n",
      " 342.9  343.32 348.75 355.27 361.05 362.67 363.   369.13 370.5  380.2\n",
      " 383.2  384.9  388.5  390.67 392.3  397.5  403.75 409.18 415.27 421.45\n",
      " 429.58 436.48 454.53 466.5  470.5  483.42 519.53 582.3  608.55 695.  ]\n"
     ]
    }
   ],
   "source": [
    "var =data[\"io_split_transfer_rate\"].values\n",
    "var = np.sort(var,axis = None)\n",
    "print(var[-300:])"
   ]
  },
  {
   "cell_type": "code",
   "execution_count": 31,
   "metadata": {},
   "outputs": [
    {
     "data": {
      "text/plain": [
       "(119774, 87)"
      ]
     },
     "execution_count": 31,
     "metadata": {},
     "output_type": "execute_result"
    }
   ],
   "source": [
    "data = data[data['io_split_transfer_rate'] < 550]\n",
    "data.shape"
   ]
  },
  {
   "cell_type": "code",
   "execution_count": 32,
   "metadata": {},
   "outputs": [
    {
     "name": "stdout",
     "output_type": "stream",
     "text": [
      "[ 1.6   1.6   1.6   1.6   1.6   1.6   1.6   1.6   1.6   1.6   1.6   1.6\n",
      "  1.6   1.6   1.6   1.6   1.6   1.6   1.6   1.6   1.6   1.6   1.6   1.6\n",
      "  1.6   1.6   1.6   1.6   1.6   1.6   1.6   1.6   1.6   1.6   1.6   1.6\n",
      "  1.6   1.6   1.6   1.6   1.6   1.6   1.6   1.6   1.6   1.6   1.6   1.6\n",
      "  1.6   1.6   1.6   1.6   1.6   1.6   1.6   1.6   1.6   1.6   1.6   1.6\n",
      "  1.6   1.6   1.6   1.6   1.6   1.6   1.6   1.6   1.6   1.6   1.6   1.6\n",
      "  1.6   1.6   1.6   1.6   1.6   1.6   1.6   1.6   1.6   1.6   1.6   1.6\n",
      "  1.6   1.6   1.6   1.6   1.6   1.6   1.6   1.6   1.6   1.6   1.6   1.6\n",
      "  1.6   1.6   1.6   1.6   1.6   1.6   1.6   1.6   1.6   1.6   1.6   1.6\n",
      "  1.6   1.6   1.6   1.6   1.6   1.6   1.6   1.6   1.6   1.6   1.6   1.6\n",
      "  1.6   1.6   1.6   1.6   1.6   1.6   1.6   1.6   1.6   1.6   1.6   1.6\n",
      "  1.6   1.6   1.6   1.6   1.6   1.6   1.6   1.6   1.6   1.6   1.6   1.6\n",
      "  1.6   1.6   1.6   1.6   1.6   1.6   1.6   1.6   1.6   1.6   1.6   1.6\n",
      "  1.6   1.6   1.6   1.6   1.6   1.6   1.6   1.6   1.6   1.6   1.6   1.6\n",
      "  1.6   1.6   1.6   1.6   1.6   1.6   1.6   1.6   1.6   1.6   1.6   1.6\n",
      "  1.6   1.6   1.6   1.6   1.6   1.6   1.6   1.6   1.6   1.6   1.6   1.6\n",
      "  1.6   1.6   1.6   1.6   1.6   1.6   1.6   1.6   1.6   1.6   1.6   1.6\n",
      "  1.6   1.6   1.6   1.6   1.6   1.6   1.6   1.6   1.6   1.6   1.6   1.6\n",
      "  1.6   1.6   1.6   1.6   1.6   1.6   1.6   1.6   1.6   1.6   1.6   1.6\n",
      "  1.6   1.6   1.6   1.6   1.6   1.6   1.63  1.63  1.63  1.63  1.63  1.63\n",
      "  1.65  1.65  1.65  1.65  1.65  1.65  1.65  1.65  1.65  1.65  1.65  1.65\n",
      "  1.65  1.65  1.67  1.67  1.67  1.67  1.68  1.68  1.7   1.7   1.7   1.7\n",
      "  1.7   1.7   1.7   1.7   1.7   1.7   1.7   1.72  1.72  1.72  1.72  1.72\n",
      "  1.72  1.72  1.72  1.73  1.73  1.73  1.75  1.75  1.75  1.75  1.78  1.8\n",
      "  1.8   1.8   1.8   1.82  1.83  2.25  3.68  3.87  6.47  7.    7.25 21.27]\n"
     ]
    },
    {
     "data": {
      "image/png": "[encoded data removed]",
      "text/plain": [
       "<Figure size 360x360 with 1 Axes>"
      ]
     },
     "metadata": {
      "needs_background": "light"
     },
     "output_type": "display_data"
    }
   ],
   "source": [
    "sns.displot(data, x=\"app07_dirio\", kind=\"kde\")\n",
    "# sns.violinplot(y=\"syst_process_count\", data =data)\n",
    "var =data[\"app07_dirio\"].values\n",
    "var = np.sort(var,axis = None)\n",
    "print(var[-300:])"
   ]
  },
  {
   "cell_type": "code",
   "execution_count": 33,
   "metadata": {},
   "outputs": [
    {
     "data": {
      "text/plain": [
       "(119773, 87)"
      ]
     },
     "execution_count": 33,
     "metadata": {},
     "output_type": "execute_result"
    }
   ],
   "source": [
    "data = data[data['app07_dirio'] < 8]\n",
    "data.shape"
   ]
  },
  {
   "cell_type": "code",
   "execution_count": 34,
   "metadata": {},
   "outputs": [
    {
     "name": "stdout",
     "output_type": "stream",
     "text": [
      "[ 649.33  649.4   649.4   649.4   649.67  649.73  649.8   649.98  650.37\n",
      "  650.47  650.53  650.9   650.95  651.23  651.73  652.5   652.6   652.7\n",
      "  652.8   652.87  653.    653.13  653.2   653.23  653.27  653.4   653.57\n",
      "  653.97  654.1   654.23  654.27  654.33  654.47  654.63  654.63  654.73\n",
      "  654.77  654.97  655.13  655.17  655.2   655.33  655.5   655.67  656.\n",
      "  656.13  656.23  656.33  656.57  656.6   656.67  657.08  657.1   657.47\n",
      "  657.53  657.63  657.7   657.75  658.    658.07  658.17  658.9   659.23\n",
      "  659.4   659.63  659.63  659.73  660.1   660.13  660.37  661.13  661.2\n",
      "  661.33  661.53  661.67  661.9   662.1   662.27  662.3   662.62  662.7\n",
      "  662.73  663.07  663.1   663.23  663.23  663.5   663.67  663.77  663.8\n",
      "  663.83  664.47  664.47  664.9   664.97  665.07  665.2   665.63  665.7\n",
      "  665.83  666.23  666.33  666.47  666.63  667.82  668.    668.18  668.93\n",
      "  669.27  669.5   669.6   669.67  669.87  669.97  670.57  670.67  670.68\n",
      "  670.77  671.77  671.83  672.3   672.33  672.37  672.53  672.6   672.67\n",
      "  672.87  673.15  673.33  673.57  673.82  673.97  674.    674.77  674.93\n",
      "  675.83  676.03  676.1   676.6   676.7   677.03  677.03  677.17  677.23\n",
      "  677.3   677.4   679.03  679.53  680.1   680.2   680.27  680.53  680.72\n",
      "  681.4   681.57  681.8   683.2   683.6   683.9   684.37  684.47  685.08\n",
      "  685.1   685.17  685.53  685.6   686.1   686.75  687.1   687.3   687.87\n",
      "  688.07  689.43  689.57  690.4   691.    691.33  693.23  693.83  694.13\n",
      "  694.57  694.58  694.87  695.03  695.18  695.43  695.63  695.77  696.\n",
      "  696.97  697.07  697.37  697.67  697.9   698.23  698.37  700.17  700.57\n",
      "  700.77  701.43  703.43  704.33  705.3   705.8   706.97  707.    707.97\n",
      "  708.87  709.87  710.77  711.13  711.37  711.98  712.77  712.93  715.23\n",
      "  715.23  717.4   717.53  717.9   717.97  718.33  719.8   721.47  721.67\n",
      "  722.17  723.3   725.75  725.9   727.37  727.58  727.63  728.87  728.87\n",
      "  729.77  730.7   732.7   732.77  732.97  734.83  740.73  742.    743.43\n",
      "  749.67  749.75  751.17  754.62  760.93  763.23  773.63  774.58  774.7\n",
      "  775.73  780.47  783.57  784.97  789.5   808.63  810.8   821.77  830.63\n",
      "  840.53  842.5   853.22  872.13  873.12  892.72  904.82  907.77  919.17\n",
      "  923.65  923.68  927.77  933.57  944.35  951.03  975.47  986.15  988.38\n",
      "  995.73  998.32 1003.4  1023.28 1023.9  1026.23 1028.97 1033.22 1040.97\n",
      " 1048.02 1054.52 1061.53 1097.88 1106.5  1178.8  1196.5  1208.92 1300.65\n",
      " 1362.48 1401.4  1689.48]\n"
     ]
    },
    {
     "data": {
      "image/png": "[encoded data removed]",
      "text/plain": [
       "<Figure size 360x360 with 1 Axes>"
      ]
     },
     "metadata": {
      "needs_background": "light"
     },
     "output_type": "display_data"
    }
   ],
   "source": [
    "sns.displot(data, x=\"app07_bufio\", kind=\"kde\")\n",
    "# sns.violinplot(y=\"syst_process_count\", data =data)\n",
    "var =data[\"app07_bufio\"].values\n",
    "var = np.sort(var,axis = None)\n",
    "print(var[-300:])"
   ]
  },
  {
   "cell_type": "code",
   "execution_count": 35,
   "metadata": {},
   "outputs": [
    {
     "data": {
      "text/plain": [
       "(119772, 87)"
      ]
     },
     "execution_count": 35,
     "metadata": {},
     "output_type": "execute_result"
    }
   ],
   "source": [
    "data = data[data['app07_bufio'] < 1500]\n",
    "data.shape"
   ]
  },
  {
   "cell_type": "code",
   "execution_count": 36,
   "metadata": {},
   "outputs": [
    {
     "name": "stdout",
     "output_type": "stream",
     "text": [
      "[ 7.12  7.12  7.12  7.13  7.15  7.15  7.17  7.18  7.18  7.2   7.22  7.22\n",
      "  7.23  7.25  7.25  7.27  7.28  7.3   7.32  7.33  7.37  7.37  7.38  7.38\n",
      "  7.38  7.38  7.42  7.43  7.43  7.45  7.45  7.45  7.47  7.48  7.48  7.48\n",
      "  7.5   7.5   7.5   7.5   7.52  7.52  7.53  7.53  7.55  7.55  7.58  7.6\n",
      "  7.62  7.62  7.62  7.67  7.68  7.68  7.7   7.7   7.7   7.73  7.73  7.75\n",
      "  7.77  7.78  7.8   7.83  7.85  7.85  7.88  7.88  7.9   7.92  7.92  7.92\n",
      "  7.93  7.95  7.97  7.97  7.98  8.    8.05  8.05  8.08  8.08  8.08  8.1\n",
      "  8.1   8.12  8.12  8.12  8.13  8.15  8.15  8.17  8.18  8.2   8.22  8.22\n",
      "  8.25  8.25  8.27  8.27  8.28  8.3   8.32  8.33  8.35  8.35  8.35  8.37\n",
      "  8.37  8.37  8.37  8.38  8.4   8.43  8.43  8.45  8.47  8.47  8.5   8.52\n",
      "  8.52  8.55  8.57  8.6   8.6   8.6   8.62  8.65  8.65  8.65  8.65  8.68\n",
      "  8.7   8.73  8.77  8.77  8.78  8.8   8.82  8.83  8.83  8.85  8.88  8.93\n",
      "  8.93  8.93  8.95  8.95  8.97  8.98  9.    9.    9.    9.02  9.02  9.03\n",
      "  9.07  9.1   9.1   9.18  9.18  9.2   9.22  9.23  9.27  9.32  9.35  9.35\n",
      "  9.37  9.38  9.38  9.4   9.42  9.42  9.43  9.45  9.47  9.48  9.48  9.48\n",
      "  9.52  9.52  9.58  9.62  9.63  9.65  9.67  9.68  9.7   9.78  9.8   9.82\n",
      "  9.83  9.87  9.88  9.9   9.92  9.93  9.93  9.93  9.98 10.   10.02 10.07\n",
      " 10.13 10.15 10.17 10.18 10.28 10.33 10.35 10.37 10.38 10.48 10.55 10.63\n",
      " 10.73 10.77 10.78 10.82 10.98 11.   11.03 11.12 11.13 11.27 11.53 11.62\n",
      " 11.65 11.65 11.67 11.72 11.73 11.8  11.97 12.02 12.05 12.08 12.12 12.13\n",
      " 12.2  12.23 12.28 12.37 12.38 12.4  12.47 12.48 12.65 12.77 12.8  12.82\n",
      " 12.85 12.88 12.95 13.2  13.5  13.6  13.62 13.73 13.83 14.07 14.1  14.2\n",
      " 14.22 14.27 14.58 14.65 14.7  15.22 15.57 15.68 15.73 15.87 15.88 15.97\n",
      " 16.12 16.52 16.53 16.85 17.93 19.25 20.   24.05 29.63 32.2  33.   35.58\n",
      " 43.78 45.43 49.32 53.   53.47 57.62 58.52 59.57 60.1  62.52 76.4  91.23]\n"
     ]
    },
    {
     "data": {
      "image/png": "[encoded data removed]",
      "text/plain": [
       "<Figure size 360x360 with 1 Axes>"
      ]
     },
     "metadata": {
      "needs_background": "light"
     },
     "output_type": "display_data"
    }
   ],
   "source": [
    "sns.displot(data, x=\"app04_pgflts\", kind=\"kde\")\n",
    "# sns.violinplot(y=\"syst_process_count\", data =data)\n",
    "var =data[\"app04_pgflts\"].values\n",
    "var = np.sort(var,axis = None)\n",
    "print(var[-300:])"
   ]
  },
  {
   "cell_type": "code",
   "execution_count": 37,
   "metadata": {},
   "outputs": [
    {
     "data": {
      "text/plain": [
       "(119770, 87)"
      ]
     },
     "execution_count": 37,
     "metadata": {},
     "output_type": "execute_result"
    }
   ],
   "source": [
    "data = data[data['app04_pgflts'] < 70]\n",
    "data.shape"
   ]
  },
  {
   "cell_type": "code",
   "execution_count": 38,
   "metadata": {},
   "outputs": [
    {
     "name": "stdout",
     "output_type": "stream",
     "text": [
      "[ 17.83  17.83  17.87  17.87  17.87  17.88  17.92  17.93  17.97  17.98\n",
      "  18.02  18.03  18.03  18.07  18.07  18.07  18.08  18.1   18.1   18.1\n",
      "  18.12  18.13  18.15  18.17  18.17  18.17  18.18  18.18  18.2   18.2\n",
      "  18.23  18.23  18.23  18.23  18.25  18.25  18.27  18.28  18.3   18.3\n",
      "  18.32  18.33  18.35  18.37  18.38  18.43  18.43  18.45  18.47  18.48\n",
      "  18.48  18.5   18.53  18.53  18.58  18.58  18.6   18.62  18.63  18.65\n",
      "  18.68  18.68  18.7   18.72  18.73  18.8   18.8   18.82  18.83  18.85\n",
      "  18.87  18.88  18.88  18.9   18.92  18.92  18.93  18.93  18.95  18.97\n",
      "  18.97  18.97  18.97  18.97  18.98  19.    19.02  19.03  19.05  19.05\n",
      "  19.07  19.15  19.17  19.18  19.2   19.25  19.25  19.25  19.28  19.32\n",
      "  19.35  19.38  19.38  19.4   19.47  19.52  19.52  19.58  19.58  19.6\n",
      "  19.65  19.72  19.75  19.75  19.77  19.85  19.85  19.88  19.88  19.95\n",
      "  19.98  19.98  20.02  20.03  20.08  20.1   20.15  20.15  20.18  20.2\n",
      "  20.22  20.27  20.37  20.38  20.4   20.55  20.58  20.7   20.77  20.78\n",
      "  20.8   20.95  20.97  21.05  21.07  21.08  21.12  21.13  21.23  21.25\n",
      "  21.3   21.3   21.33  21.35  21.42  21.52  21.53  21.57  21.6   21.63\n",
      "  21.63  22.    22.    22.1   22.2   22.25  22.32  22.43  22.58  22.73\n",
      "  23.02  23.13  23.15  23.18  23.28  23.63  23.67  24.18  24.38  24.47\n",
      "  24.55  24.58  24.68  24.83  25.35  25.58  25.95  27.37  27.67  29.27\n",
      "  31.98  33.18  33.52  33.7   35.97  40.42  40.8   42.98  43.27  43.68\n",
      "  44.08  46.05  53.87  54.57  55.8   59.2   63.68  66.12  67.53  68.95\n",
      "  76.65  77.13  78.08  80.7   86.93  91.4   94.7   95.07  97.55  98.02\n",
      " 104.88 107.15 110.55 113.57 124.3  125.13 128.48 134.77 137.25 138.88\n",
      " 139.47 141.15 142.77 148.43 149.15 156.62 161.42 165.18 167.23 167.87\n",
      " 169.85 169.95 172.42 173.77 174.08 174.1  174.1  174.12 174.13 174.63\n",
      " 175.7  177.02 177.28 177.32 177.37 177.42 177.97 178.35 183.92 184.33\n",
      " 189.17 189.2  189.57 189.62 190.08 190.95 197.77 199.2  199.27 199.37\n",
      " 199.47 199.7  200.68 200.8  201.28 202.32 202.57 203.5  205.5  205.5\n",
      " 206.53 206.83 208.18 208.65 208.65 210.28 210.95 227.63 228.4  229.45\n",
      " 231.18 233.07 233.78 235.83 242.95 252.18 379.03 386.12 392.32 470.85]\n"
     ]
    },
    {
     "data": {
      "image/png": "[encoded data removed]",
      "text/plain": [
       "<Figure size 360x360 with 1 Axes>"
      ]
     },
     "metadata": {
      "needs_background": "light"
     },
     "output_type": "display_data"
    }
   ],
   "source": [
    "sns.displot(data, x=\"app05_dirio\", kind=\"kde\")\n",
    "# sns.violinplot(y=\"syst_process_count\", data =data)\n",
    "var =data[\"app05_dirio\"].values\n",
    "var = np.sort(var,axis = None)\n",
    "print(var[-300:])"
   ]
  },
  {
   "cell_type": "code",
   "execution_count": 39,
   "metadata": {},
   "outputs": [
    {
     "data": {
      "text/plain": [
       "(119766, 87)"
      ]
     },
     "execution_count": 39,
     "metadata": {},
     "output_type": "execute_result"
    }
   ],
   "source": [
    "data = data[data['app05_dirio'] < 300]\n",
    "data.shape"
   ]
  },
  {
   "cell_type": "code",
   "execution_count": 40,
   "metadata": {},
   "outputs": [
    {
     "name": "stdout",
     "output_type": "stream",
     "text": [
      "[ 289.32  289.47  289.5   289.53  289.58  289.6   289.8   289.85  289.9\n",
      "  289.93  290.2   290.22  290.32  290.33  290.4   290.78  290.82  290.83\n",
      "  290.85  290.88  291.02  291.12  291.17  291.52  291.7   292.05  292.12\n",
      "  292.2   292.35  292.35  292.42  292.45  292.48  292.5   292.5   293.07\n",
      "  293.1   293.33  293.38  293.72  293.82  294.05  294.13  294.33  294.37\n",
      "  294.63  294.85  295.    295.03  295.05  295.07  295.33  295.45  295.52\n",
      "  296.22  296.68  296.85  296.87  296.88  296.95  296.95  297.02  297.03\n",
      "  297.08  297.22  297.73  297.75  297.82  298.02  298.38  298.7   298.75\n",
      "  298.88  299.42  299.55  299.65  299.73  299.73  300.13  300.13  300.27\n",
      "  300.3   300.45  300.95  301.02  301.02  301.07  301.12  301.17  301.45\n",
      "  301.92  301.93  302.17  302.18  302.45  302.63  302.98  303.4   303.88\n",
      "  304.1   304.15  304.18  304.52  305.23  305.37  305.53  305.7   305.88\n",
      "  306.37  306.68  307.17  307.27  307.32  307.78  307.93  308.18  308.7\n",
      "  308.72  309.97  311.08  311.13  313.1   315.53  315.87  318.4   318.73\n",
      "  318.85  319.4   319.63  319.65  319.72  320.23  320.85  322.2   323.47\n",
      "  324.63  325.3   326.15  326.47  326.82  330.58  331.62  333.1   333.32\n",
      "  334.05  334.45  334.77  335.03  338.08  339.58  339.87  340.77  343.07\n",
      "  344.37  344.68  344.8   345.    347.38  348.08  354.    354.97  355.72\n",
      "  356.1   356.47  358.55  359.43  360.97  361.1   365.02  372.57  372.95\n",
      "  374.83  379.47  380.15  381.18  382.08  382.75  383.1   384.03  387.07\n",
      "  387.43  388.53  390.78  391.03  391.25  392.5   395.03  395.55  396.15\n",
      "  397.35  398.87  401.27  401.77  401.88  405.12  405.45  409.95  411.07\n",
      "  413.08  414.05  415.2   415.45  415.65  416.28  418.22  419.23  422.08\n",
      "  428.28  428.42  429.32  431.82  432.92  433.62  434.77  436.78  437.48\n",
      "  442.3   442.88  444.6   445.6   446.7   447.77  447.8   448.37  454.93\n",
      "  456.5   457.92  459.3   460.97  461.38  464.8   467.55  468.1   472.73\n",
      "  480.13  480.87  480.97  483.85  492.65  493.28  493.9   497.65  498.73\n",
      "  503.32  522.32  522.43  523.25  523.9   538.15  544.82  549.63  553.78\n",
      "  562.12  564.53  566.57  578.63  582.68  585.23  587.47  587.52  604.55\n",
      "  608.73  609.63  616.85  617.68  617.93  635.4   639.88  640.25  642.47\n",
      "  646.78  648.33  654.63  659.65  666.98  683.17  687.07  688.7   698.72\n",
      "  700.92  706.57  724.1   725.73  750.5   755.37  763.3   764.02  767.93\n",
      "  778.88  811.38  832.45  843.02  863.1   872.75  878.05  893.7   906.27\n",
      "  925.6   929.28 1132.33]\n"
     ]
    },
    {
     "data": {
      "image/png": "[encoded data removed]",
      "text/plain": [
       "<Figure size 360x360 with 1 Axes>"
      ]
     },
     "metadata": {
      "needs_background": "light"
     },
     "output_type": "display_data"
    }
   ],
   "source": [
    "sns.displot(data, x=\"app05_bufio\", kind=\"kde\")\n",
    "# sns.violinplot(y=\"syst_process_count\", data =data)\n",
    "var =data[\"app05_bufio\"].values\n",
    "var = np.sort(var,axis = None)\n",
    "print(var[-300:])"
   ]
  },
  {
   "cell_type": "code",
   "execution_count": 41,
   "metadata": {},
   "outputs": [
    {
     "data": {
      "text/plain": [
       "(119765, 87)"
      ]
     },
     "execution_count": 41,
     "metadata": {},
     "output_type": "execute_result"
    }
   ],
   "source": [
    "data = data[data['app05_bufio'] < 950]\n",
    "data.shape"
   ]
  },
  {
   "cell_type": "code",
   "execution_count": 42,
   "metadata": {},
   "outputs": [
    {
     "name": "stdout",
     "output_type": "stream",
     "text": [
      "[  9.35  10.12  10.3   10.3   10.3   10.32  10.32  10.32  10.32  10.32\n",
      "  10.32  10.32  10.32  10.32  10.32  10.32  10.32  10.33  10.33  10.33\n",
      "  10.33  10.33  10.33  10.33  10.33  10.33  10.33  10.33  10.33  10.33\n",
      "  10.33  10.33  10.33  10.33  10.33  10.33  10.33  10.33  10.33  10.33\n",
      "  10.33  10.33  10.33  10.33  10.33  10.33  10.33  10.33  10.33  10.33\n",
      "  10.33  10.33  10.33  10.33  10.33  10.33  10.33  10.33  10.33  10.33\n",
      "  10.33  10.33  10.33  10.33  10.33  10.33  10.33  10.33  10.33  10.33\n",
      "  10.33  10.33  10.33  10.33  10.33  10.33  10.33  10.33  10.33  10.33\n",
      "  10.33  10.33  10.33  10.33  10.33  10.35  10.35  10.35  10.35  10.35\n",
      "  10.35  10.35  10.35  10.35  10.35  10.35  10.37  10.37  10.37  10.37\n",
      "  10.37  10.37  10.37  10.37  10.38  10.4   10.62  11.    11.    11.\n",
      "  11.    11.    11.    11.    11.    11.    11.    11.    11.    11.\n",
      "  11.    11.    11.    11.    11.    11.    11.    11.    11.    11.\n",
      "  11.    11.33  11.35  11.35  11.35  11.35  11.35  11.35  11.37  11.37\n",
      "  11.37  11.38  11.38  11.38  11.38  11.38  11.38  11.38  11.38  11.38\n",
      "  11.38  11.38  11.38  11.38  11.4   11.4   11.4   11.4   11.42  11.42\n",
      "  12.    12.    12.    12.    12.    12.    12.    12.    12.    12.\n",
      "  12.    12.02  12.02  12.3   12.35  12.37  12.37  12.37  12.38  12.38\n",
      "  12.38  12.38  12.38  12.38  12.38  12.38  12.4   12.4   12.4   12.4\n",
      "  12.4   12.4   12.4   12.4   12.4   12.4   12.4   12.4   12.4   12.4\n",
      "  12.4   12.4   12.42  12.42  12.42  12.42  12.42  12.43  12.43  12.43\n",
      "  12.43  12.45  13.07  13.07  13.07  13.07  13.07  13.07  13.07  13.07\n",
      "  13.07  13.07  13.1   13.38  13.42  13.42  13.42  13.42  13.43  13.45\n",
      "  13.45  13.45  13.45  13.47  13.47  13.47  14.07  14.07  14.18  14.43\n",
      "  14.43  14.45  14.45  14.45  14.47  14.47  14.47  14.47  14.47  14.47\n",
      "  14.48  14.48  14.48  14.48  14.48  14.48  15.13  15.13  15.45  15.48\n",
      "  15.48  15.5   15.52  15.52  15.52  15.52  15.53  15.53  15.57  15.67\n",
      "  16.52  16.52  16.52  16.52  16.53  16.53  16.53  16.53  16.53  16.53\n",
      "  16.53  16.55  17.53  17.55  17.57  18.6   18.6   18.63  18.63  19.58\n",
      "  19.68  20.32  20.58  21.7   23.48  26.45 385.42 388.55 390.73 392.93]\n"
     ]
    },
    {
     "data": {
      "image/png": "[encoded data removed]",
      "text/plain": [
       "<Figure size 360x360 with 1 Axes>"
      ]
     },
     "metadata": {
      "needs_background": "light"
     },
     "output_type": "display_data"
    }
   ],
   "source": [
    "sns.displot(data, x=\"app03_dirio\", kind=\"kde\")\n",
    "# sns.violinplot(y=\"syst_process_count\", data =data)\n",
    "var =data[\"app03_dirio\"].values\n",
    "var = np.sort(var,axis = None)\n",
    "print(var[-300:])"
   ]
  },
  {
   "cell_type": "code",
   "execution_count": 43,
   "metadata": {},
   "outputs": [
    {
     "data": {
      "text/plain": [
       "(119761, 87)"
      ]
     },
     "execution_count": 43,
     "metadata": {},
     "output_type": "execute_result"
    }
   ],
   "source": [
    "data = data[data['app03_dirio'] < 300]\n",
    "data.shape"
   ]
  },
  {
   "cell_type": "code",
   "execution_count": 44,
   "metadata": {},
   "outputs": [
    {
     "data": {
      "text/plain": [
       "Index(['syst_direct_ipo_rate', 'syst_buffered_ipo_rate',\n",
       "       'syst_page_fault_rate', 'syst_page_read_ipo_rate', 'syst_process_count',\n",
       "       'syst_other_states', 'page_page_write_ipo_rate',\n",
       "       'page_global_valid_fault_rate', 'page_free_list_size',\n",
       "       'page_modified_list_size', 'io_mailbox_write_rate',\n",
       "       'io_split_transfer_rate', 'io_file_open_rate', 'io_logical_name_trans',\n",
       "       'io_page_reads', 'io_page_writes', 'page_free_list_faults',\n",
       "       'page_modified_list_faults', 'page_demand_zero_faults', 'state_compute',\n",
       "       'state_mwait', 'state_lef', 'state_hib', 'state_cur', 'app06_dirio',\n",
       "       'app06_bufio', 'app06_pgflts', 'app06_proccount', 'app06_pagesgbl',\n",
       "       'app06_pagesproc', 'app07_dirio', 'app07_bufio', 'app07_pgflts',\n",
       "       'app07_proccount', 'app07_pagesgbl', 'app07_pagesproc', 'app04_dirio',\n",
       "       'app04_bufio', 'app04_pgflts', 'app04_proccount', 'app04_pagesgbl',\n",
       "       'app04_pagesproc', 'app08_dirio', 'app08_bufio', 'app08_pgflts',\n",
       "       'app08_proccount', 'app08_pagesgbl', 'app08_pagesproc', 'app01_dirio',\n",
       "       'app01_bufio', 'app01_pgflts', 'app01_proccount', 'app01_pagesgbl',\n",
       "       'app01_pagesproc', 'app05_dirio', 'app05_bufio', 'app05_pgflts',\n",
       "       'app05_proccount', 'app05_pagesgbl', 'app05_pagesproc', 'app03_dirio',\n",
       "       'app03_bufio', 'app03_pgflts', 'app03_proccount', 'app03_pagesgbl',\n",
       "       'app03_pagesproc', 'app02_dirio', 'app02_bufio', 'app02_pgflts',\n",
       "       'app02_proccount', 'app02_pagesgbl', 'app02_pagesproc', 'tcp_in',\n",
       "       'tcp_out', 'tcp_rxdup', 'tcp_retxpk', 'tcp_retxto', 'tcp_kpalv',\n",
       "       'lla0_pkts_recvpsec', 'lla0_pkts_sentpsec', 'llb0_pkts_recvpsec',\n",
       "       'llb0_pkts_sentpsec', 'ewc0_pkts_recvpsec', 'ewc0_pkts_sentpsec',\n",
       "       'ewd0_pkts_recvpsec', 'ewd0_pkts_sentpsec', 'cpu_load'],\n",
       "      dtype='object')"
      ]
     },
     "execution_count": 44,
     "metadata": {},
     "output_type": "execute_result"
    }
   ],
   "source": [
    "data.columns"
   ]
  },
  {
   "cell_type": "markdown",
   "metadata": {},
   "source": [
    "##### Outliers Clearance\n",
    "before cleaning there were 119782 and after removal of outliers there are 119761 rows so there are 21 rows which were having outliers"
   ]
  },
  {
   "cell_type": "code",
   "execution_count": 46,
   "metadata": {},
   "outputs": [
    {
     "name": "stdout",
     "output_type": "stream",
     "text": [
      "---------------------------------------------------\n",
      "Test size  (23953, 86)   (23953,)\n",
      "---------------------------------------------------\n",
      "Training size  (95808, 86)   (95808,)\n",
      "---------------------------------------------------\n"
     ]
    }
   ],
   "source": [
    "features = data.drop(['cpu_load'], axis = 1)\n",
    "true_labels = data['cpu_load']\n",
    "X,x_test, Y, y_test = train_test_split(features, true_labels, test_size = 0.2,stratify = true_labels, random_state = 42)\n",
    "\n",
    "print('---------------------------------------------------')\n",
    "print('Test size ', x_test.shape, ' ', y_test.shape)\n",
    "print('---------------------------------------------------')\n",
    "print('Training size ', X.shape, ' ', Y.shape)\n",
    "print('---------------------------------------------------')"
   ]
  },
  {
   "cell_type": "code",
   "execution_count": 47,
   "metadata": {},
   "outputs": [],
   "source": [
    "label_dict = {'high':[1, 0, 0], 'low':[0,1,0], 'medium':[0, 0, 1]}\n",
    "y_test_one_hot = one_hot_builder(label_dict, y_test)"
   ]
  },
  {
   "cell_type": "code",
   "execution_count": 212,
   "metadata": {},
   "outputs": [
    {
     "data": {
      "image/png": "[encoded data removed]",
      "text/plain": [
       "<Figure size 1080x540 with 2 Axes>"
      ]
     },
     "metadata": {
      "needs_background": "light"
     },
     "output_type": "display_data"
    }
   ],
   "source": [
    "# checking distribution of train and test\n",
    "\n",
    "plt.figure(figsize = (15, 7.5))\n",
    "plt.subplot(1,2,1)\n",
    "plt.hist(Y)\n",
    "plt.xlabel('Train')\n",
    "\n",
    "\n",
    "\n",
    "plt.subplot(1,2,2)\n",
    "plt.hist(y_test)\n",
    "plt.xlabel('Test')\n",
    "\n",
    "plt.show()"
   ]
  },
  {
   "cell_type": "code",
   "execution_count": 213,
   "metadata": {},
   "outputs": [
    {
     "data": {
      "text/plain": [
       "(95808, 86)"
      ]
     },
     "execution_count": 213,
     "metadata": {},
     "output_type": "execute_result"
    }
   ],
   "source": [
    "X.shape"
   ]
  },
  {
   "cell_type": "markdown",
   "metadata": {},
   "source": [
    "### The data has been splited correctly"
   ]
  },
  {
   "cell_type": "markdown",
   "metadata": {},
   "source": [
    "###### Note:- The hyperparameter tuning can be done through the grid search CV but it requires much more computation power that's why I opted for 80:20 rule"
   ]
  },
  {
   "cell_type": "code",
   "execution_count": 214,
   "metadata": {},
   "outputs": [
    {
     "name": "stdout",
     "output_type": "stream",
     "text": [
      "f1 score is  0.9130784100713059  with n_estimators  50  log loss is  0.27161395269470545\n",
      "f1 score is  0.9126681023402796  with n_estimators  100  log loss is  0.2395147506868701\n",
      "f1 score is  0.9133816743360819  with n_estimators  250  log loss is  0.21744604921769137\n",
      "f1 score is  0.9130191264611247  with n_estimators  500  log loss is  0.21130630735511954\n",
      "f1 score is  0.9132728957104693  with n_estimators  750  log loss is  0.20879596886202167\n",
      "f1 score is  0.9133212422534883  with n_estimators  1000  log loss is  0.20878577315002778\n",
      "Wall time: 56min 33s\n"
     ]
    }
   ],
   "source": [
    "%%time\n",
    "n_estimators = [50, 100, 250, 500, 750, 1000]\n",
    "\n",
    "for n in n_estimators:\n",
    "    random_forest = RandomForestClassifier(criterion = 'entropy', random_state = 42,max_features = 0.7,n_estimators = n, n_jobs=-1).fit(X,Y)\n",
    "    y_test_pred = random_forest.predict(x_test)\n",
    "    y_test_prob = random_forest.predict_proba(x_test)\n",
    "    print('f1 score is ', f1_score(y_test, y_test_pred, average = 'weighted'), ' with n_estimators ', n, ' log loss is ', log_loss(y_test_one_hot, y_test_prob))"
   ]
  },
  {
   "cell_type": "code",
   "execution_count": 215,
   "metadata": {},
   "outputs": [],
   "source": [
    "random_forest = RandomForestClassifier(criterion = 'entropy', random_state = 42,max_features = 0.7,n_estimators = 1000, n_jobs=-1).fit(features, true_labels)"
   ]
  },
  {
   "cell_type": "code",
   "execution_count": 216,
   "metadata": {},
   "outputs": [],
   "source": [
    "test = pd.read_csv('test.csv')\n",
    "test_predict = random_forest.predict_proba(test.drop(['id', 'm_id'], axis = 1))\n",
    "\n",
    "random_forest_pred = pd.DataFrame(test_predict)\n",
    "random_forest_pred.columns = ['high', 'low', 'medium']\n",
    "random_forest_pred['id'] = test['id'].values\n",
    "random_forest_pred.to_csv('Random Forest entropy Final.csv', index = False)"
   ]
  },
  {
   "cell_type": "code",
   "execution_count": 217,
   "metadata": {},
   "outputs": [],
   "source": [
    "# saving the model\n",
    "filename = 'random_forest_tuned_without_features_selection_final.sav'\n",
    "pickle.dump(random_forest, open(filename, 'wb'))"
   ]
  },
  {
   "cell_type": "code",
   "execution_count": 219,
   "metadata": {},
   "outputs": [
    {
     "name": "stdout",
     "output_type": "stream",
     "text": [
      "done\n"
     ]
    }
   ],
   "source": [
    "print('done')"
   ]
  },
  {
   "cell_type": "markdown",
   "metadata": {},
   "source": [
    "###### Feature Selection\n",
    "\n",
    "I got the idea from this kaggle blog https://www.kaggle.com/prashant111/random-forest-classifier-tutorial"
   ]
  },
  {
   "cell_type": "code",
   "execution_count": 62,
   "metadata": {},
   "outputs": [
    {
     "data": {
      "text/plain": [
       "syst_buffered_ipo_rate          0.309909\n",
       "syst_direct_ipo_rate            0.181840\n",
       "app07_bufio                     0.150475\n",
       "io_logical_name_trans           0.065252\n",
       "page_modified_list_size         0.026030\n",
       "app05_bufio                     0.018048\n",
       "lla0_pkts_sentpsec              0.015841\n",
       "app05_dirio                     0.013326\n",
       "app05_pagesproc                 0.012623\n",
       "lla0_pkts_recvpsec              0.010915\n",
       "llb0_pkts_recvpsec              0.010463\n",
       "page_free_list_size             0.010444\n",
       "ewc0_pkts_recvpsec              0.009435\n",
       "llb0_pkts_sentpsec              0.009305\n",
       "ewc0_pkts_sentpsec              0.009066\n",
       "ewd0_pkts_sentpsec              0.009031\n",
       "ewd0_pkts_recvpsec              0.008763\n",
       "app02_bufio                     0.007857\n",
       "app02_dirio                     0.007818\n",
       "io_page_writes                  0.006949\n",
       "io_file_open_rate               0.006588\n",
       "app05_pagesgbl                  0.006540\n",
       "io_mailbox_write_rate           0.005871\n",
       "page_page_write_ipo_rate        0.005449\n",
       "app08_pagesproc                 0.005120\n",
       "app08_proccount                 0.004810\n",
       "app08_pagesgbl                  0.004799\n",
       "app04_dirio                     0.004773\n",
       "app01_dirio                     0.004112\n",
       "state_lef                       0.003998\n",
       "app03_pagesproc                 0.003672\n",
       "app02_pagesgbl                  0.003443\n",
       "state_compute                   0.003297\n",
       "app01_bufio                     0.003258\n",
       "app07_pagesproc                 0.002799\n",
       "page_demand_zero_faults         0.002765\n",
       "app07_pagesgbl                  0.002735\n",
       "tcp_in                          0.002647\n",
       "app02_pagesproc                 0.002376\n",
       "syst_page_fault_rate            0.002317\n",
       "tcp_rxdup                       0.001676\n",
       "app04_pagesgbl                  0.001628\n",
       "state_hib                       0.001525\n",
       "page_global_valid_fault_rate    0.001445\n",
       "syst_process_count              0.001419\n",
       "page_modified_list_faults       0.001404\n",
       "app03_pagesgbl                  0.001320\n",
       "io_split_transfer_rate          0.001314\n",
       "tcp_out                         0.001297\n",
       "app05_pgflts                    0.001116\n",
       "app04_pagesproc                 0.001093\n",
       "page_free_list_faults           0.001056\n",
       "app04_bufio                     0.000992\n",
       "io_page_reads                   0.000970\n",
       "app08_dirio                     0.000897\n",
       "syst_page_read_ipo_rate         0.000788\n",
       "app04_pgflts                    0.000739\n",
       "app01_pagesproc                 0.000711\n",
       "app08_bufio                     0.000661\n",
       "tcp_kpalv                       0.000583\n",
       "app03_pgflts                    0.000317\n",
       "syst_other_states               0.000281\n",
       "app06_pagesproc                 0.000249\n",
       "app07_dirio                     0.000210\n",
       "tcp_retxpk                      0.000202\n",
       "tcp_retxto                      0.000198\n",
       "app07_pgflts                    0.000185\n",
       "app01_pagesgbl                  0.000172\n",
       "app03_dirio                     0.000118\n",
       "app07_proccount                 0.000105\n",
       "app03_bufio                     0.000097\n",
       "state_mwait                     0.000088\n",
       "app01_proccount                 0.000083\n",
       "app08_pgflts                    0.000062\n",
       "app06_pagesgbl                  0.000061\n",
       "state_cur                       0.000046\n",
       "app02_proccount                 0.000045\n",
       "app01_pgflts                    0.000034\n",
       "app05_proccount                 0.000025\n",
       "app02_pgflts                    0.000024\n",
       "app04_proccount                 0.000007\n",
       "app06_dirio                     0.000000\n",
       "app06_bufio                     0.000000\n",
       "app06_pgflts                    0.000000\n",
       "app06_proccount                 0.000000\n",
       "app03_proccount                 0.000000\n",
       "dtype: float64"
      ]
     },
     "metadata": {},
     "output_type": "display_data"
    }
   ],
   "source": [
    "feature_scores = pd.Series(random_forest.feature_importances_, index=features.columns).sort_values(ascending=False)\n",
    "with pd.option_context('display.max_rows', None, 'display.max_columns', None):  # more options can be specified also\n",
    "   display(feature_scores)"
   ]
  },
  {
   "cell_type": "code",
   "execution_count": 54,
   "metadata": {},
   "outputs": [],
   "source": [
    "features_selected = features.drop(['app03_bufio', 'state_mwait' ,'app01_proccount' ,'app08_pgflts' ,'app06_pagesgbl'  ,'state_cur'       ,'app02_proccount' ,'app01_pgflts'    ,'app05_proccount', 'app02_pgflts'    ,'app04_proccount' ,'app06_dirio'     ,'app06_bufio'     ,'app06_pgflts'    ,'app06_proccount' ,'app03_proccount' ],axis=1)\n",
    "\n",
    "\n",
    "   \n"
   ]
  },
  {
   "cell_type": "code",
   "execution_count": 93,
   "metadata": {},
   "outputs": [
    {
     "name": "stdout",
     "output_type": "stream",
     "text": [
      "---------------------------------------------------\n",
      "Test size  (23953, 70)   (23953,)\n",
      "---------------------------------------------------\n",
      "Training size  (95808, 70)   (95808,)\n",
      "---------------------------------------------------\n"
     ]
    }
   ],
   "source": [
    "\n",
    "X,x_test, Y, y_test = train_test_split(features_selected, true_labels, test_size = 0.2,stratify = true_labels, random_state = 42)\n",
    "\n",
    "print('---------------------------------------------------')\n",
    "print('Test size ', x_test.shape, ' ', y_test.shape)\n",
    "print('---------------------------------------------------')\n",
    "print('Training size ', X.shape, ' ', Y.shape)\n",
    "print('---------------------------------------------------')"
   ]
  },
  {
   "cell_type": "code",
   "execution_count": 218,
   "metadata": {},
   "outputs": [
    {
     "name": "stdout",
     "output_type": "stream",
     "text": [
      "f1 score is  0.9117994149829656  with n_estimators  50  log loss is  0.2636053491261484\n",
      "f1 score is  0.9135980624371989  with n_estimators  100  log loss is  0.2330915154341178\n",
      "f1 score is  0.9136475688314666  with n_estimators  250  log loss is  0.21533401628424026\n",
      "f1 score is  0.913645968007257  with n_estimators  500  log loss is  0.21375752729188804\n",
      "f1 score is  0.9137941994321527  with n_estimators  750  log loss is  0.2087566029700319\n",
      "f1 score is  0.9138345023272195  with n_estimators  1000  log loss is  0.20855659854062536\n",
      "Wall time: 29min 34s\n"
     ]
    }
   ],
   "source": [
    "%%time\n",
    "n_estimators = [50, 100, 250, 500, 750, 1000]\n",
    "for n in n_estimators:\n",
    "    random_forest_feature_selected = RandomForestClassifier(criterion = 'entropy', random_state = 42,max_features = 25,n_estimators = n, n_jobs=-1).fit(X, Y)\n",
    "    y_test_pred = random_forest_feature_selected.predict(x_test)\n",
    "    y_test_prob = random_forest_feature_selected.predict_proba(x_test)\n",
    "    print('f1 score is ', f1_score(y_test, y_test_pred, average = 'weighted'), ' with n_estimators ', n, ' log loss is ', log_loss(y_test_one_hot, y_test_prob))"
   ]
  },
  {
   "cell_type": "code",
   "execution_count": 220,
   "metadata": {},
   "outputs": [],
   "source": [
    "random_forest_feature_selected = RandomForestClassifier(criterion = 'entropy', random_state = 42,max_features = 25,n_estimators = 1000, n_jobs=-1).fit(features_selected, true_labels)"
   ]
  },
  {
   "cell_type": "code",
   "execution_count": 221,
   "metadata": {},
   "outputs": [],
   "source": [
    "test = pd.read_csv('test.csv')\n",
    "test_predict = random_forest_feature_selected.predict_proba(test.drop(['id', 'm_id','app03_bufio', 'state_mwait' ,'app01_proccount' ,'app08_pgflts' ,'app06_pagesgbl'  ,'state_cur'       ,'app02_proccount' ,'app01_pgflts'    ,'app05_proccount', 'app02_pgflts'    ,'app04_proccount' ,'app06_dirio'     ,'app06_bufio'     ,'app06_pgflts'    ,'app06_proccount' ,'app03_proccount' ], axis = 1))\n",
    "\n",
    "random_forest_pred = pd.DataFrame(test_predict)\n",
    "random_forest_pred.columns = ['high', 'low', 'medium']\n",
    "random_forest_pred['id'] = test['id'].values\n",
    "random_forest_pred.to_csv('Random Forest entropy feature_selected.csv', index = False)"
   ]
  },
  {
   "cell_type": "code",
   "execution_count": 222,
   "metadata": {},
   "outputs": [],
   "source": [
    "# saving the model\n",
    "filename = 'random_forest_tuned_with_fe.sav'\n",
    "pickle.dump(random_forest_feature_selected, open(filename, 'wb'))"
   ]
  },
  {
   "cell_type": "markdown",
   "metadata": {},
   "source": [
    "###### Gradient Boosting"
   ]
  },
  {
   "cell_type": "code",
   "execution_count": 223,
   "metadata": {},
   "outputs": [
    {
     "name": "stdout",
     "output_type": "stream",
     "text": [
      "Wall time: 1h 7min 57s\n"
     ]
    }
   ],
   "source": [
    "%%time\n",
    "gbdt = GradientBoostingClassifier(n_estimators=1000).fit(X, Y)\n",
    "y_test_pred = gbdt.predict(x_test)\n",
    "y_test_prob = gbdt.predict_proba(x_test)\n"
   ]
  },
  {
   "cell_type": "code",
   "execution_count": 224,
   "metadata": {},
   "outputs": [],
   "source": [
    "test = pd.read_csv('test.csv')\n",
    "test_predict = gbdt.predict_proba(test.drop(['id', 'm_id'], axis = 1))\n",
    "\n",
    "gbdt_dataframe = pd.DataFrame(test_predict)\n",
    "gbdt_dataframe.columns = ['high', 'low', 'medium']\n",
    "gbdt_dataframe['id'] = test['id'].values\n",
    "gbdt_dataframe.to_csv('Gradient Boosting Final.csv', index = False)"
   ]
  },
  {
   "cell_type": "code",
   "execution_count": 225,
   "metadata": {},
   "outputs": [],
   "source": [
    "filename = 'GBDT.sav'\n",
    "pickle.dump(gbdt, open(filename, 'wb'))"
   ]
  },
  {
   "cell_type": "markdown",
   "metadata": {},
   "source": [
    "### Voting Classifier"
   ]
  },
  {
   "cell_type": "code",
   "execution_count": 49,
   "metadata": {},
   "outputs": [
    {
     "name": "stdout",
     "output_type": "stream",
     "text": [
      "CPU times: user 66 µs, sys: 1e+03 ns, total: 67 µs\n",
      "Wall time: 69.9 µs\n"
     ]
    }
   ],
   "source": [
    "%%time\n",
    "random_voting = RandomForestClassifier(criterion = 'entropy', random_state = 42,max_features = 25,n_estimators = 1000, n_jobs=-1)\n",
    "gbdt_voting = GradientBoostingClassifier(n_estimators=1000)\n",
    "\n",
    "vote = VotingClassifier(estimators=[('RF', random_voting), ('gbdt', gbdt_voting)], voting='soft')\n",
    "\n",
    "vote.fit(features_selected, true_labels)\n"
   ]
  },
  {
   "cell_type": "code",
   "execution_count": 163,
   "metadata": {},
   "outputs": [],
   "source": [
    "test_predict = vote.predict_proba(test.drop(['id','app03_bufio', 'state_mwait' ,'app01_proccount' ,'app08_pgflts' ,'app06_pagesgbl'  ,'state_cur'       ,'app02_proccount' ,'app01_pgflts'    ,'app05_proccount', 'app02_pgflts'    ,'app04_proccount' ,'app06_dirio'     ,'app06_bufio'     ,'app06_pgflts'    ,'app06_proccount' ,'app03_proccount' ], axis = 1))\n",
    "\n",
    "Voting_classifier = pd.DataFrame(test_predict)\n",
    "Voting_classifier.columns = ['high', 'low', 'medium']\n",
    "Voting_classifier['id'] = test['id'].values\n",
    "Voting_classifier.to_csv('Voting_Classifier.csv', index = False)"
   ]
  },
  {
   "cell_type": "code",
   "execution_count": 157,
   "metadata": {},
   "outputs": [
    {
     "data": {
      "text/plain": [
       "Index(['syst_direct_ipo_rate', 'syst_buffered_ipo_rate',\n",
       "       'syst_page_fault_rate', 'syst_page_read_ipo_rate', 'syst_process_count',\n",
       "       'syst_other_states', 'page_page_write_ipo_rate',\n",
       "       'page_global_valid_fault_rate', 'page_free_list_size',\n",
       "       'page_modified_list_size', 'io_mailbox_write_rate',\n",
       "       'io_split_transfer_rate', 'io_file_open_rate', 'io_logical_name_trans',\n",
       "       'io_page_reads', 'io_page_writes', 'page_free_list_faults',\n",
       "       'page_modified_list_faults', 'page_demand_zero_faults', 'state_compute',\n",
       "       'state_mwait', 'state_lef', 'state_hib', 'state_cur', 'app06_dirio',\n",
       "       'app06_bufio', 'app06_pgflts', 'app06_proccount', 'app06_pagesgbl',\n",
       "       'app06_pagesproc', 'app07_dirio', 'app07_bufio', 'app07_pgflts',\n",
       "       'app07_proccount', 'app07_pagesgbl', 'app07_pagesproc', 'app04_dirio',\n",
       "       'app04_bufio', 'app04_pgflts', 'app04_proccount', 'app04_pagesgbl',\n",
       "       'app04_pagesproc', 'app08_dirio', 'app08_bufio', 'app08_pgflts',\n",
       "       'app08_proccount', 'app08_pagesgbl', 'app08_pagesproc', 'app01_dirio',\n",
       "       'app01_bufio', 'app01_pgflts', 'app01_proccount', 'app01_pagesgbl',\n",
       "       'app01_pagesproc', 'app05_dirio', 'app05_bufio', 'app05_pgflts',\n",
       "       'app05_proccount', 'app05_pagesgbl', 'app05_pagesproc', 'app03_dirio',\n",
       "       'app03_bufio', 'app03_pgflts', 'app03_proccount', 'app03_pagesgbl',\n",
       "       'app03_pagesproc', 'app02_dirio', 'app02_bufio', 'app02_pgflts',\n",
       "       'app02_proccount', 'app02_pagesgbl', 'app02_pagesproc', 'tcp_in',\n",
       "       'tcp_out', 'tcp_rxdup', 'tcp_retxpk', 'tcp_retxto', 'tcp_kpalv',\n",
       "       'lla0_pkts_recvpsec', 'lla0_pkts_sentpsec', 'llb0_pkts_recvpsec',\n",
       "       'llb0_pkts_sentpsec', 'ewc0_pkts_recvpsec', 'ewc0_pkts_sentpsec',\n",
       "       'ewd0_pkts_recvpsec', 'ewd0_pkts_sentpsec'],\n",
       "      dtype='object')"
      ]
     },
     "execution_count": 157,
     "metadata": {},
     "output_type": "execute_result"
    }
   ],
   "source": [
    "features.columns"
   ]
  },
  {
   "cell_type": "code",
   "execution_count": 159,
   "metadata": {},
   "outputs": [
    {
     "data": {
      "text/plain": [
       "Index(['id', 'syst_direct_ipo_rate', 'syst_buffered_ipo_rate',\n",
       "       'syst_page_fault_rate', 'syst_page_read_ipo_rate', 'syst_process_count',\n",
       "       'syst_other_states', 'page_page_write_ipo_rate',\n",
       "       'page_global_valid_fault_rate', 'page_free_list_size',\n",
       "       'page_modified_list_size', 'io_mailbox_write_rate',\n",
       "       'io_split_transfer_rate', 'io_file_open_rate', 'io_logical_name_trans',\n",
       "       'io_page_reads', 'io_page_writes', 'page_free_list_faults',\n",
       "       'page_modified_list_faults', 'page_demand_zero_faults', 'state_compute',\n",
       "       'state_mwait', 'state_lef', 'state_hib', 'state_cur', 'app06_dirio',\n",
       "       'app06_bufio', 'app06_pgflts', 'app06_proccount', 'app06_pagesgbl',\n",
       "       'app06_pagesproc', 'app07_dirio', 'app07_bufio', 'app07_pgflts',\n",
       "       'app07_proccount', 'app07_pagesgbl', 'app07_pagesproc', 'app04_dirio',\n",
       "       'app04_bufio', 'app04_pgflts', 'app04_proccount', 'app04_pagesgbl',\n",
       "       'app04_pagesproc', 'app08_dirio', 'app08_bufio', 'app08_pgflts',\n",
       "       'app08_proccount', 'app08_pagesgbl', 'app08_pagesproc', 'app01_dirio',\n",
       "       'app01_bufio', 'app01_pgflts', 'app01_proccount', 'app01_pagesgbl',\n",
       "       'app01_pagesproc', 'app05_dirio', 'app05_bufio', 'app05_pgflts',\n",
       "       'app05_proccount', 'app05_pagesgbl', 'app05_pagesproc', 'app03_dirio',\n",
       "       'app03_bufio', 'app03_pgflts', 'app03_proccount', 'app03_pagesgbl',\n",
       "       'app03_pagesproc', 'app02_dirio', 'app02_bufio', 'app02_pgflts',\n",
       "       'app02_proccount', 'app02_pagesgbl', 'app02_pagesproc', 'tcp_in',\n",
       "       'tcp_out', 'tcp_rxdup', 'tcp_retxpk', 'tcp_retxto', 'tcp_kpalv',\n",
       "       'lla0_pkts_recvpsec', 'lla0_pkts_sentpsec', 'llb0_pkts_recvpsec',\n",
       "       'llb0_pkts_sentpsec', 'ewc0_pkts_recvpsec', 'ewc0_pkts_sentpsec',\n",
       "       'ewd0_pkts_recvpsec', 'ewd0_pkts_sentpsec', 'm_id_a', 'm_id_b',\n",
       "       'm_id_c', 'm_id_d', 'm_id_e', 'm_id_f', 'm_id_g'],\n",
       "      dtype='object')"
      ]
     },
     "execution_count": 159,
     "metadata": {},
     "output_type": "execute_result"
    }
   ],
   "source": [
    "test.columns"
   ]
  },
  {
   "cell_type": "code",
   "execution_count": 160,
   "metadata": {},
   "outputs": [
    {
     "data": {
      "text/plain": [
       "(119761, 86)"
      ]
     },
     "execution_count": 160,
     "metadata": {},
     "output_type": "execute_result"
    }
   ],
   "source": [
    "features.shape"
   ]
  },
  {
   "cell_type": "code",
   "execution_count": 162,
   "metadata": {},
   "outputs": [
    {
     "data": {
      "text/plain": [
       "(58998, 87)"
      ]
     },
     "execution_count": 162,
     "metadata": {},
     "output_type": "execute_result"
    }
   ],
   "source": [
    "for col in test.columns:\n",
    "    if 'm_id' in col:\n",
    "        test = test.drop([col], axis = 1)\n",
    "        \n",
    "test.shape"
   ]
  },
  {
   "cell_type": "code",
   "execution_count": 165,
   "metadata": {},
   "outputs": [],
   "source": [
    "filename = 'VotingClassifier_random_gbt_1000.sav'\n",
    "pickle.dump(vote, open(filename, 'wb'))"
   ]
  },
  {
   "cell_type": "markdown",
   "metadata": {},
   "source": [
    "#### Two stack Voting Classifier \n",
    "hyperparameter found on my various others notebook"
   ]
  },
  {
   "cell_type": "code",
   "execution_count": 50,
   "metadata": {},
   "outputs": [
    {
     "name": "stdout",
     "output_type": "stream",
     "text": [
      "CPU times: user 50min 40s, sys: 23.4 s, total: 51min 3s\n",
      "Wall time: 55min 53s\n"
     ]
    },
    {
     "data": {
      "text/plain": [
       "VotingClassifier(estimators=[('rf',\n",
       "                              RandomForestClassifier(criterion='entropy',\n",
       "                                                     max_depth=18,\n",
       "                                                     max_features=30,\n",
       "                                                     n_estimators=1000,\n",
       "                                                     n_jobs=-1,\n",
       "                                                     random_state=0)),\n",
       "                             ('gbdt',\n",
       "                              GradientBoostingClassifier(learning_rate=0.05,\n",
       "                                                         max_depth=11,\n",
       "                                                         max_features=12,\n",
       "                                                         min_samples_split=1200,\n",
       "                                                         n_estimators=1000,\n",
       "                                                         random_state=42,\n",
       "                                                         subsample=0.85)),\n",
       "                             ('vote_1',\n",
       "                              VotingClassifier(estimators=[('RF',\n",
       "                                                            RandomForestClassifier(criterion='entropy',\n",
       "                                                                                   max_features=25,\n",
       "                                                                                   n_estimators=1000,\n",
       "                                                                                   n_jobs=-1,\n",
       "                                                                                   random_state=42)),\n",
       "                                                           ('gbdt',\n",
       "                                                            GradientBoostingClassifier(n_estimators=1000))],\n",
       "                                               voting='soft'))],\n",
       "                 voting='soft')"
      ]
     },
     "execution_count": 50,
     "metadata": {},
     "output_type": "execute_result"
    }
   ],
   "source": [
    "%%time\n",
    "rf = RandomForestClassifier(n_estimators=1000,criterion='entropy',random_state=0, n_jobs=-1,max_features=30,max_depth=18)\n",
    "gbdt = GradientBoostingClassifier(random_state = 42,n_estimators = 1000,min_samples_split=1200,max_depth=11,max_features=12,learning_rate=0.05,subsample=0.85)\n",
    "\n",
    "voted = VotingClassifier(estimators=[('rf', rf), ('gbdt', gbdt), ('vote_1', vote)],voting='soft')\n",
    "\n",
    "voted.fit(features, true_labels)"
   ]
  },
  {
   "cell_type": "code",
   "execution_count": 52,
   "metadata": {},
   "outputs": [],
   "source": [
    "filename = 'VotingClassifier_random_2_stack_no_fs.sav'\n",
    "pickle.dump(voted, open(filename, 'wb'))"
   ]
  },
  {
   "cell_type": "code",
   "execution_count": 53,
   "metadata": {},
   "outputs": [],
   "source": [
    "test = pd.read_csv('test.csv')\n",
    "test_predict = voted.predict_proba(test.drop(['id', 'm_id'], axis = 1))\n",
    "\n",
    "random_forest_pred = pd.DataFrame(test_predict)\n",
    "random_forest_pred.columns = ['high', 'low', 'medium']\n",
    "random_forest_pred['id'] = test['id'].values\n",
    "random_forest_pred.to_csv('Voting_2_stack_no_fs.csv', index = False)"
   ]
  },
  {
   "cell_type": "code",
   "execution_count": 51,
   "metadata": {},
   "outputs": [
    {
     "name": "stdout",
     "output_type": "stream",
     "text": [
      "done\n"
     ]
    }
   ],
   "source": [
    "print('done')"
   ]
  },
  {
   "cell_type": "markdown",
   "metadata": {},
   "source": [
    "#### Two stack Voting Classifier with feature selection\n",
    "hyperparameter found on my various others notebook"
   ]
  },
  {
   "cell_type": "code",
   "execution_count": 57,
   "metadata": {},
   "outputs": [
    {
     "name": "stdout",
     "output_type": "stream",
     "text": [
      "CPU times: user 51min 27s, sys: 25.4 s, total: 51min 52s\n",
      "Wall time: 56min 36s\n"
     ]
    },
    {
     "data": {
      "text/plain": [
       "VotingClassifier(estimators=[('rf',\n",
       "                              RandomForestClassifier(criterion='entropy',\n",
       "                                                     max_depth=18,\n",
       "                                                     max_features=30,\n",
       "                                                     n_estimators=1000,\n",
       "                                                     n_jobs=-1,\n",
       "                                                     random_state=0)),\n",
       "                             ('gbdt',\n",
       "                              GradientBoostingClassifier(learning_rate=0.05,\n",
       "                                                         max_depth=11,\n",
       "                                                         max_features=12,\n",
       "                                                         min_samples_split=1200,\n",
       "                                                         n_estimators=1000,\n",
       "                                                         random_state=42,\n",
       "                                                         subsample=0.85)),\n",
       "                             ('vote_1',\n",
       "                              VotingClassifier(estimators=[('RF',\n",
       "                                                            RandomForestClassifier(criterion='entropy',\n",
       "                                                                                   max_features=25,\n",
       "                                                                                   n_estimators=1000,\n",
       "                                                                                   n_jobs=-1,\n",
       "                                                                                   random_state=42)),\n",
       "                                                           ('gbdt',\n",
       "                                                            GradientBoostingClassifier(n_estimators=1000))],\n",
       "                                               voting='soft'))],\n",
       "                 voting='soft')"
      ]
     },
     "execution_count": 57,
     "metadata": {},
     "output_type": "execute_result"
    }
   ],
   "source": [
    "%%time\n",
    "rf = RandomForestClassifier(n_estimators=1000,criterion='entropy',random_state=0, n_jobs=-1,max_features=30,max_depth=18)\n",
    "gbdt = GradientBoostingClassifier(random_state = 42,n_estimators = 1000,min_samples_split=1200,max_depth=11,max_features=12,learning_rate=0.05,subsample=0.85)\n",
    "\n",
    "voted_fs = VotingClassifier(estimators=[('rf', rf), ('gbdt', gbdt), ('vote_1', vote)],voting='soft')\n",
    "\n",
    "voted_fs.fit(features_selected, true_labels)"
   ]
  },
  {
   "cell_type": "code",
   "execution_count": 59,
   "metadata": {},
   "outputs": [],
   "source": [
    "test_predict = voted_fs.predict_proba(test.drop(['id','m_id','app03_bufio', 'state_mwait' ,'app01_proccount' ,'app08_pgflts' ,'app06_pagesgbl'  ,'state_cur'       ,'app02_proccount' ,'app01_pgflts'    ,'app05_proccount', 'app02_pgflts'    ,'app04_proccount' ,'app06_dirio'     ,'app06_bufio'     ,'app06_pgflts'    ,'app06_proccount' ,'app03_proccount' ], axis = 1))\n",
    "\n",
    "Voting_classifier = pd.DataFrame(test_predict)\n",
    "Voting_classifier.columns = ['high', 'low', 'medium']\n",
    "Voting_classifier['id'] = test['id'].values\n",
    "Voting_classifier.to_csv('Voting_Classifier_2_stack_with_fs.csv', index = False)"
   ]
  },
  {
   "cell_type": "code",
   "execution_count": 60,
   "metadata": {},
   "outputs": [
    {
     "name": "stdout",
     "output_type": "stream",
     "text": [
      "done\n"
     ]
    }
   ],
   "source": [
    "print('done')"
   ]
  },
  {
   "cell_type": "code",
   "execution_count": 61,
   "metadata": {},
   "outputs": [],
   "source": [
    "filename = 'VotingClassifier_random_2_stack_with_fs.sav'\n",
    "pickle.dump(voted_fs, open(filename, 'wb'))"
   ]
  },
  {
   "cell_type": "markdown",
   "metadata": {},
   "source": [
    "#### Voting Classifier with proper hyperparameter tuning done on different tree\n",
    "hyperparameter found on my various others notebook"
   ]
  },
  {
   "cell_type": "code",
   "execution_count": 62,
   "metadata": {},
   "outputs": [
    {
     "name": "stdout",
     "output_type": "stream",
     "text": [
      "CPU times: user 16min 46s, sys: 15.1 s, total: 17min 1s\n",
      "Wall time: 19min 26s\n"
     ]
    },
    {
     "data": {
      "text/plain": [
       "VotingClassifier(estimators=[('rf',\n",
       "                              RandomForestClassifier(criterion='entropy',\n",
       "                                                     max_depth=18,\n",
       "                                                     max_features=30,\n",
       "                                                     n_estimators=1000,\n",
       "                                                     n_jobs=-1,\n",
       "                                                     random_state=0)),\n",
       "                             ('gbdt',\n",
       "                              GradientBoostingClassifier(learning_rate=0.05,\n",
       "                                                         max_depth=11,\n",
       "                                                         max_features=12,\n",
       "                                                         min_samples_split=1200,\n",
       "                                                         n_estimators=1000,\n",
       "                                                         random_state=42,\n",
       "                                                         subsample=0.85))],\n",
       "                 voting='soft')"
      ]
     },
     "execution_count": 62,
     "metadata": {},
     "output_type": "execute_result"
    }
   ],
   "source": [
    "%%time\n",
    "from sklearn.ensemble import GradientBoostingClassifier\n",
    "rf = RandomForestClassifier(n_estimators=1000,criterion='entropy',random_state=0, n_jobs=-1,max_features=30,max_depth=18)\n",
    "gbdt = GradientBoostingClassifier(random_state = 42,n_estimators = 1000,min_samples_split=1200,max_depth=11,max_features=12,learning_rate=0.05,subsample=0.85)\n",
    "\n",
    "voted = VotingClassifier(estimators=[('rf', rf), ('gbdt', gbdt)],voting='soft')\n",
    "voted.fit(features, true_labels)"
   ]
  },
  {
   "cell_type": "code",
   "execution_count": 63,
   "metadata": {},
   "outputs": [],
   "source": [
    "test = pd.read_csv('test.csv')\n",
    "test_predict = voted.predict_proba(test.drop(['id', 'm_id'], axis = 1))\n",
    "\n",
    "random_forest_pred = pd.DataFrame(test_predict)\n",
    "random_forest_pred.columns = ['high', 'low', 'medium']\n",
    "random_forest_pred['id'] = test['id'].values\n",
    "random_forest_pred.to_csv('Voting_1_stack_no_fs.csv', index = False)"
   ]
  },
  {
   "cell_type": "code",
   "execution_count": 64,
   "metadata": {},
   "outputs": [],
   "source": [
    "filename = 'VotingClassifier_random_1j_stack_with_fs.sav'\n",
    "pickle.dump(voted, open(filename, 'wb'))"
   ]
  },
  {
   "cell_type": "markdown",
   "metadata": {},
   "source": [
    "#### Three Model Voting Classifier \n",
    "hyperparameter found on my various others notebook "
   ]
  },
  {
   "cell_type": "markdown",
   "metadata": {},
   "source": [
    "###### V1"
   ]
  },
  {
   "cell_type": "code",
   "execution_count": null,
   "metadata": {},
   "outputs": [],
   "source": [
    "%%time\n",
    "from sklearn.ensemble import VotingClassifier\n",
    "from sklearn.ensemble import GradientBoostingClassifier\n",
    "rf = RandomForestClassifier(n_estimators=1000,criterion='entropy',random_state=0, n_jobs=-1,max_features=30,max_depth=18)\n",
    "gbdt = GradientBoostingClassifier(random_state = 42,n_estimators = 1000,min_samples_split=1200,max_depth=11,max_features=12,learning_rate=0.05,subsample=0.85)\n",
    "hist = HistGradientBoostingClassifier(learning_rate=0.05,early_stopping=False,l2_regularization=2,max_iter=750 ,max_depth=50,random_state=42)\n",
    "voting_classifier = VotingClassifier(estimators=[\n",
    "    ('gradient_boosting', gbdt),\n",
    "    ('histboosting', hist),\n",
    "    ('random_forest_classifier',rf)\n",
    "],voting='soft',n_jobs=-1)\n",
    "\n",
    "#voting_classifier = voting_classifier.fit(train_x,train_y)\n",
    "voting_classifier = voting_classifier.fit(features, true_labels)"
   ]
  },
  {
   "cell_type": "code",
   "execution_count": null,
   "metadata": {},
   "outputs": [],
   "source": [
    "test = pd.read_csv('test.csv')\n",
    "test_predict = voting_classifier.predict_proba(test.drop(['id', 'm_id'], axis = 1))\n",
    "\n",
    "random_forest_pred = pd.DataFrame(test_predict)\n",
    "random_forest_pred.columns = ['high', 'low', 'medium']\n",
    "random_forest_pred['id'] = test['id'].values\n",
    "random_forest_pred.to_csv('Voting_3_stack_no_fs.csv', index = False)"
   ]
  },
  {
   "cell_type": "markdown",
   "metadata": {},
   "source": [
    "#### Three Model Voting Classifier \n",
    "hyperparameter found on my various others notebook \n",
    "###### V2"
   ]
  },
  {
   "cell_type": "code",
   "execution_count": null,
   "metadata": {},
   "outputs": [],
   "source": [
    "%%time\n",
    "from sklearn.ensemble import VotingClassifier\n",
    "from sklearn.ensemble import GradientBoostingClassifier\n",
    "rf = RandomForestClassifier(criterion = 'entropy', n_estimators = 750,max_depth=20,max_features=28,n_jobs=-1,verbose=1)\n",
    "gbdt = GradientBoostingClassifier(random_state = 42,n_estimators = 1000,min_samples_split=1200,max_depth=11,max_features=12,learning_rate=0.05,subsample=0.85)\n",
    "hist = HistGradientBoostingClassifier(learning_rate=0.05,early_stopping=False,l2_regularization=2,max_iter=750 ,max_depth=50,random_state=42)\n",
    "voting_classifier = VotingClassifier(estimators=[\n",
    "    ('gradient_boosting', gbdt),\n",
    "    ('histboosting', hist),\n",
    "    ('random_forest_classifier',rf)\n",
    "],voting='soft',n_jobs=-1)\n",
    "\n",
    "#voting_classifier = voting_classifier.fit(train_x,train_y)\n",
    "voting_classifier = voting_classifier.fit(features, true_labels)"
   ]
  },
  {
   "cell_type": "code",
   "execution_count": null,
   "metadata": {},
   "outputs": [],
   "source": [
    "test = pd.read_csv('test.csv')\n",
    "test_predict = voting_classifier.predict_proba(test.drop(['id', 'm_id'], axis = 1))\n",
    "\n",
    "random_forest_pred = pd.DataFrame(test_predict)\n",
    "random_forest_pred.columns = ['high', 'low', 'medium']\n",
    "random_forest_pred['id'] = test['id'].values\n",
    "random_forest_pred.to_csv('Voting_3_stack_no_fs_v2.csv', index = False)"
   ]
  },
  {
   "cell_type": "markdown",
   "metadata": {},
   "source": [
    "#### Documentation"
   ]
  },
  {
   "cell_type": "markdown",
   "metadata": {},
   "source": [
    "1. I had tried feature binning, derivative features and normal outlier removal got the best solution from outlier clearance\n",
    "2. I had done hyperparameter tuning on all of these models \n",
    "3. I had boosted score by using 2 stack Voting Classifier with different param\n",
    "4. I had boosted score by using 4 models in Voting Classifier with different param\n",
    "5. The score is again boosted by taking mean of two best score and the reulting score log loss decreased significantly\n",
    "\n",
    "**Creative approach**\n",
    "1. Two stack Voting Classifier\n",
    "2. Mean average of two best model output decreased the logloss significantly"
   ]
  },
  {
   "cell_type": "markdown",
   "metadata": {},
   "source": [
    "# Creative Solutions\n",
    "\n",
    "**Idea behind the solution**:- I thought of them to make a cluster of kmeans and then to check wheather all of the clusters are falling on the class with similar values"
   ]
  },
  {
   "cell_type": "code",
   "execution_count": 1,
   "metadata": {},
   "outputs": [],
   "source": [
    "# Import the required libraries\n",
    "import numpy as np\n",
    "import pandas as pd\n",
    "from sklearn.calibration import CalibratedClassifierCV\n",
    "from sklearn.linear_model import LogisticRegression\n",
    "import matplotlib.pyplot as plt\n",
    "import warnings\n",
    "warnings.filterwarnings(\"ignore\")\n",
    "import seaborn as sns\n",
    "from sklearn.model_selection import train_test_split\n",
    "from sklearn.model_selection import GridSearchCV\n",
    "from sklearn.metrics import accuracy_score\n",
    "from sklearn.metrics import confusion_matrix\n",
    "from sklearn.linear_model import LogisticRegression\n",
    "from prettytable import PrettyTable\n",
    "from sklearn.metrics import f1_score\n",
    "from sklearn.metrics import log_loss\n",
    "from sklearn.tree import DecisionTreeClassifier\n",
    "from sklearn.ensemble import RandomForestClassifier, VotingClassifier, GradientBoostingClassifier  \n",
    "from prettytable import PrettyTable\n",
    "from sklearn import tree\n",
    "from sklearn.metrics import log_loss\n",
    "from sklearn.preprocessing import StandardScaler\n",
    "import pickle\n",
    "from sklearn.ensemble import GradientBoostingClassifier\n",
    "from sklearn.cluster import KMeans"
   ]
  },
  {
   "cell_type": "code",
   "execution_count": 2,
   "metadata": {},
   "outputs": [],
   "source": [
    "data = pd.read_csv('train.csv')\n",
    "labels = data['cpu_load']\n",
    "data = data.drop(['m_id', 'cpu_load'], axis = 1)\n"
   ]
  },
  {
   "cell_type": "code",
   "execution_count": 3,
   "metadata": {},
   "outputs": [],
   "source": [
    "means = KMeans(n_clusters=3, random_state=1, init = 'k-means++').fit(data)"
   ]
  },
  {
   "cell_type": "code",
   "execution_count": 4,
   "metadata": {},
   "outputs": [],
   "source": [
    "kmean_label = means.predict(data)"
   ]
  },
  {
   "cell_type": "code",
   "execution_count": 5,
   "metadata": {},
   "outputs": [],
   "source": [
    "data['kmean_label'] = kmean_label\n"
   ]
  },
  {
   "cell_type": "code",
   "execution_count": 6,
   "metadata": {},
   "outputs": [
    {
     "data": {
      "text/plain": [
       "{'0_medium': 61993,\n",
       " '0_low': 42583,\n",
       " '0_high': 15162,\n",
       " '2_high': 4,\n",
       " '2_low': 5,\n",
       " '1_low': 7,\n",
       " '1_medium': 11,\n",
       " '1_high': 5,\n",
       " '2_medium': 12}"
      ]
     },
     "execution_count": 6,
     "metadata": {},
     "output_type": "execute_result"
    }
   ],
   "source": [
    "result = dict()\n",
    "for x, y in zip(kmean_label, labels.values):\n",
    "    try:\n",
    "        result[str(x) + '_' + y] += 1\n",
    "    except:\n",
    "        result[str(x) + '_' + y] = 1\n",
    "result"
   ]
  },
  {
   "cell_type": "markdown",
   "metadata": {},
   "source": [
    "#### Observation :- The approach didn't work as I thought so"
   ]
  },
  {
   "cell_type": "code",
   "execution_count": null,
   "metadata": {},
   "outputs": [],
   "source": []
  }
 ],
 "metadata": {
  "kernelspec": {
   "display_name": "Python 3",
   "language": "python",
   "name": "python3"
  },
  "language_info": {
   "codemirror_mode": {
    "name": "ipython",
    "version": 3
   },
   "file_extension": ".py",
   "mimetype": "text/x-python",
   "name": "python",
   "nbconvert_exporter": "python",
   "pygments_lexer": "ipython3",
   "version": "3.6.8"
  }
 },
 "nbformat": 4,
 "nbformat_minor": 4
}
